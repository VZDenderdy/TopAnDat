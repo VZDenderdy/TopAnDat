{
 "cells": [
  {
   "cell_type": "code",
   "execution_count": null,
   "id": "02f6f39a",
   "metadata": {},
   "outputs": [],
   "source": [
    "!pip install seaborn"
   ]
  },
  {
   "cell_type": "code",
   "execution_count": 1,
   "id": "d554c243",
   "metadata": {},
   "outputs": [],
   "source": [
    "import numpy as np\n",
    "import pandas as pd\n",
    "import random\n",
    "\n",
    "from IntrinsicDim import PHD\n",
    "\n",
    "from sklearn.utils import shuffle\n",
    "from transformers import RobertaTokenizer, RobertaModel\n",
    "import torch\n",
    "\n",
    "from tqdm import tqdm\n",
    "\n",
    "import matplotlib.pyplot as plt\n",
    "import matplotlib as mpl\n",
    "import seaborn as sns\n",
    "\n",
    "np.random.seed(42)\n",
    "random.seed(42)\n",
    "\n",
    "#import os\n",
    "#os.environ[\"REQUESTS_CA_BUNDLE\"] = \"/etc/ssl/certs/ca-certificates.crt\"\n",
    "#os.environ[\"SSL_CERT_FILE\"] = \"/etc/ssl/certs/ca-certificates.crt\"\n",
    "import pickle as pk"
   ]
  },
  {
   "cell_type": "code",
   "execution_count": 2,
   "id": "d5fefdaf",
   "metadata": {},
   "outputs": [],
   "source": [
    "DEVICE = \"cuda:0\"\n",
    "MAX_LEN = 512\n",
    "EXAMPLES_PER_DF = 250"
   ]
  },
  {
   "cell_type": "code",
   "execution_count": 3,
   "id": "5dd6ebdd",
   "metadata": {},
   "outputs": [],
   "source": [
    "reddit_path_gpt3 = \"data/human_gpt3_davinci_003_reddit.json_pp\"\n",
    "wiki_path_gpt3 = \"data/human_gpt3_davinci_003_wikip.zip\""
   ]
  },
  {
   "cell_type": "code",
   "execution_count": 4,
   "id": "218ae0ab",
   "metadata": {},
   "outputs": [
    {
     "data": {
      "text/plain": [
       "(250, 250)"
      ]
     },
     "execution_count": 4,
     "metadata": {},
     "output_type": "execute_result"
    }
   ],
   "source": [
    "df_gpt3_w = pd.read_json(wiki_path_gpt3, lines=True)\n",
    "df_gpt3_r = pd.read_json(reddit_path_gpt3, lines=True)\n",
    "df_gpt3_w = [df_gpt3_w[i][0] for i in range(len(df_gpt3_w.columns))]\n",
    "df_gpt3_r = [df_gpt3_r[i][0] for i in range(len(df_gpt3_r.columns))]\n",
    "df_gpt3_w = df_gpt3_w[:EXAMPLES_PER_DF]\n",
    "df_gpt3_r = df_gpt3_r[:EXAMPLES_PER_DF]\n",
    "len(df_gpt3_r), len(df_gpt3_w)"
   ]
  },
  {
   "cell_type": "code",
   "execution_count": 5,
   "id": "6263d8f0",
   "metadata": {},
   "outputs": [
    {
     "name": "stdout",
     "output_type": "stream",
     "text": [
      "dict_keys(['prefix', 'gold_completion', 'gen_completion', 'paraphrase_outputs', 'split'])\n"
     ]
    }
   ],
   "source": [
    "print(df_gpt3_r[0].keys())"
   ]
  },
  {
   "cell_type": "code",
   "execution_count": 27,
   "id": "c6463200",
   "metadata": {},
   "outputs": [],
   "source": [
    "text_sets = {\n",
    "    \"gpt_w_3_paraphrase_40_40_input\":list(map(lambda x: x['paraphrase_outputs']['lex_40_order_40']['final_input'], df_gpt3_w)),\n",
    "    \"gpt_w_3_paraphrase_40_40_output\":list(map(lambda x: x['paraphrase_outputs']['lex_40_order_40']['output'][0], df_gpt3_w)),\n",
    "    \"gpt_w_3_paraphrase_40_100_input\":list(map(lambda x: x['paraphrase_outputs']['lex_40_order_100']['final_input'], df_gpt3_w)),\n",
    "    \"gpt_w_3_paraphrase_40_100_output\":list(map(lambda x: x['paraphrase_outputs']['lex_40_order_100']['output'][0], df_gpt3_w)),\n",
    "    \"gpt_w_3_paraphrase_80_100_input\":list(map(lambda x: x['paraphrase_outputs']['lex_80_order_100']['final_input'], df_gpt3_w)),\n",
    "    \"gpt_w_3_paraphrase_80_100_output\":list(map(lambda x: x['paraphrase_outputs']['lex_80_order_100']['output'][0], df_gpt3_w)),\n",
    "    \n",
    "    \"gpt_r_3_paraphrase_40_40_input\":list(map(lambda x: x['paraphrase_outputs']['lex_40_order_40']['final_input'], df_gpt3_r)),\n",
    "    \"gpt_r_3_paraphrase_40_40_output\":list(map(lambda x: x['paraphrase_outputs']['lex_40_order_40']['output'][0], df_gpt3_r)),\n",
    "    \"gpt_r_3_paraphrase_40_100_input\":list(map(lambda x: x['paraphrase_outputs']['lex_40_order_100']['final_input'], df_gpt3_r)),\n",
    "    \"gpt_r_3_paraphrase_40_100_output\":list(map(lambda x: x['paraphrase_outputs']['lex_40_order_100']['output'][0], df_gpt3_r)),\n",
    "    \"gpt_r_3_paraphrase_80_100_input\":list(map(lambda x: x['paraphrase_outputs']['lex_80_order_100']['final_input'], df_gpt3_r)),\n",
    "    \"gpt_r_3_paraphrase_80_100_output\":list(map(lambda x: x['paraphrase_outputs']['lex_80_order_100']['output'][0], df_gpt3_r)),\n",
    "}"
   ]
  },
  {
   "cell_type": "code",
   "execution_count": 29,
   "id": "3785b242",
   "metadata": {},
   "outputs": [
    {
     "data": {
      "text/plain": [
       "\"lexical = 40, order = 40 Answer the following question in 200-250 words. Q: Why can't you live off of suplements? A: Supplements usually contain one or two nutrients, such as vitamins, minerals, or amino acids. Supplements are no substitute for a balanced diet. Moreover, many supplements contain preservatives, synthetic dyes, and other harmful substances. This means that to get the same nutrients from a balanced diet, you have to take many supplements. The dose of each nutrient you get from a supplement will probably be much lower than from a food source. Moreover, a balanced diet gives you a large number of vitamins, minerals, and other nutrients that supplements do not contain. Moreover, a balanced diet will provide you with the best opportunity for a healthy life. Finally, the body needs a wide variety of nutrients to function properly. When taken in large doses, these substances can lead to unwanted health problems, such as digestive disorders and imbalances in the body. <sent> Furthermore, the body better absorbs nutrients from food sources than from supplements. In conclusion, while supplements can provide certain essential vitamins and minerals, they cannot provide all of the essential nutrients required for a healthy life. It is important to get the majority of your essential nutrients from food sources to ensure your body is getting all of the nutrients it needs. </sent>\""
      ]
     },
     "execution_count": 29,
     "metadata": {},
     "output_type": "execute_result"
    }
   ],
   "source": [
    "text_sets[\"gpt_r_3_paraphrase_40_40_input\"][2]"
   ]
  },
  {
   "cell_type": "code",
   "execution_count": null,
   "id": "3ac1c890",
   "metadata": {},
   "outputs": [],
   "source": []
  },
  {
   "cell_type": "code",
   "execution_count": 11,
   "id": "c2da3bff",
   "metadata": {},
   "outputs": [
    {
     "name": "stderr",
     "output_type": "stream",
     "text": [
      "C:\\Users\\melko\\AppData\\Local\\Programs\\Python\\Python311\\Lib\\site-packages\\huggingface_hub\\file_download.py:943: FutureWarning: `resume_download` is deprecated and will be removed in version 1.0.0. Downloads always resume when possible. If you want to force a new download, use `force_download=True`.\n",
      "  warnings.warn(\n",
      "Some weights of RobertaModel were not initialized from the model checkpoint at roberta-base and are newly initialized: ['roberta.pooler.dense.bias', 'roberta.pooler.dense.weight']\n",
      "You should probably TRAIN this model on a down-stream task to be able to use it for predictions and inference.\n"
     ]
    }
   ],
   "source": [
    "### Insert here path to model files in your system\n",
    "model_path = 'roberta-base'\n",
    "tokenizer_path = model_path\n",
    "\n",
    "### Loading the model\n",
    "tokenizer = RobertaTokenizer.from_pretrained(tokenizer_path)\n",
    "model = RobertaModel.from_pretrained(model_path)"
   ]
  },
  {
   "cell_type": "code",
   "execution_count": 12,
   "id": "ea9e5ec9",
   "metadata": {},
   "outputs": [],
   "source": [
    "\"\"\"\n",
    "Our method (PHD) is stochastic, here are some magic constants for it. They are chosen specifically for text data. If you plan to use this code for something different, consider testing other values.\n",
    "\n",
    "MIN_SUBSAMPLE       --- the size of the minimal subsample to be drawn in procedure. Lesser values yields less statisitcally stable predictions.\n",
    "INTERMEDIATE_POINTS --- number of sumsamples to be drawn. The more this number is, the more stable dimension estimation for single text is; however,  the computational time is higher, too. 7 is, empirically, the best trade-off.\n",
    "\"\"\"\n",
    "MIN_SUBSAMPLE = 40\n",
    "INTERMEDIATE_POINTS = 7"
   ]
  },
  {
   "cell_type": "code",
   "execution_count": 30,
   "id": "683a88c6",
   "metadata": {},
   "outputs": [],
   "source": [
    "'''\n",
    "Auxillary function. Clear text from linebreaks and odd whitespaces, because they seem to interfer with LM quite a lot.\n",
    "Replace with a more sophisticated cleaner, if needed.\n",
    "'''\n",
    "\n",
    "def preprocess_text(text):\n",
    "    return text.replace('\\n', ' ').replace('  ', ' ')"
   ]
  },
  {
   "cell_type": "code",
   "execution_count": 31,
   "id": "e0fac80c",
   "metadata": {},
   "outputs": [],
   "source": [
    "'''\n",
    "Get PHD for one text\n",
    "Parameters:\n",
    "        text  --- text\n",
    "        solver --- PHD computator\n",
    "\n",
    "Returns:\n",
    "    real number or NumPy.nan  --- Intrinsic dimension value of the text in the input data\n",
    "                                                    estimated by Persistence Homology Dimension method.'''\n",
    "def get_phd_single(text, solver):\n",
    "    inputs = tokenizer(preprocess_text(text), truncation=True, max_length=512, return_tensors=\"pt\")\n",
    "    with torch.no_grad():\n",
    "        outp = model(**inputs)\n",
    "\n",
    "    # We omit the first and last tokens (<CLS> and <SEP> because they do not directly correspond to any part of the)\n",
    "    mx_points = inputs['input_ids'].shape[1] - 2\n",
    "\n",
    "\n",
    "    mn_points = MIN_SUBSAMPLE\n",
    "    step = ( mx_points - mn_points ) // INTERMEDIATE_POINTS\n",
    "\n",
    "    return solver.fit_transform(outp[0][0].numpy()[1:-1],  min_points=mn_points, max_points=mx_points - step, \\\n",
    "                                point_jump=step)"
   ]
  },
  {
   "cell_type": "code",
   "execution_count": 73,
   "id": "f1258180",
   "metadata": {},
   "outputs": [
    {
     "name": "stderr",
     "output_type": "stream",
     "text": [
      "gpt_w_3_paraphrase_40_40_input: 100%|████████████████████████████████████████████████████████████████████| 250/250 [02:28<00:00,  1.68it/s]\n"
     ]
    },
    {
     "name": "stdout",
     "output_type": "stream",
     "text": [
      "gpt_w_3_paraphrase_40_40_input: mean = 7.753966012968105, std = 1.279347530681689\n"
     ]
    },
    {
     "name": "stderr",
     "output_type": "stream",
     "text": [
      "gpt_w_3_paraphrase_40_40_output:  16%|██████████▉                                                         | 40/250 [00:16<00:59,  3.50it/s]"
     ]
    },
    {
     "name": "stdout",
     "output_type": "stream",
     "text": [
      "range() arg 3 must not be zero\n"
     ]
    },
    {
     "name": "stderr",
     "output_type": "stream",
     "text": [
      "gpt_w_3_paraphrase_40_40_output:  22%|██████████████▉                                                     | 55/250 [00:21<01:11,  2.72it/s]Exception in thread Thread-6259 (_calc_ph_dim_single):\n",
      "Traceback (most recent call last):\n",
      "  File \"C:\\Users\\melko\\AppData\\Local\\Programs\\Python\\Python311\\Lib\\threading.py\", line 1038, in _bootstrap_inner\n",
      "Exception in thread Thread-6260 (_calc_ph_dim_single):\n",
      "Traceback (most recent call last):\n",
      "  File \"C:\\Users\\melko\\AppData\\Local\\Programs\\Python\\Python311\\Lib\\threading.py\", line 1038, in _bootstrap_inner\n",
      "Exception in thread Thread-6261 (_calc_ph_dim_single):\n",
      "Traceback (most recent call last):\n",
      "  File \"C:\\Users\\melko\\AppData\\Local\\Programs\\Python\\Python311\\Lib\\threading.py\", line 1038, in _bootstrap_inner\n",
      "    self.run()\n",
      "  File \"C:\\Users\\melko\\AppData\\Local\\Programs\\Python\\Python311\\Lib\\threading.py\", line 975, in run\n",
      "    self.run()\n",
      "  File \"C:\\Users\\melko\\AppData\\Local\\Programs\\Python\\Python311\\Lib\\threading.py\", line 975, in run\n",
      "    self.run()\n",
      "  File \"C:\\Users\\melko\\AppData\\Local\\Programs\\Python\\Python311\\Lib\\threading.py\", line 975, in run\n",
      "    self._target(*self._args, **self._kwargs)\n",
      "  File \"C:\\Users\\melko\\Documents\\Huawei\\IntrinsicDim.py\", line 67, in _calc_ph_dim_single\n",
      "    self._target(*self._args, **self._kwargs)\n",
      "  File \"C:\\Users\\melko\\Documents\\Huawei\\IntrinsicDim.py\", line 67, in _calc_ph_dim_single\n",
      "    self._target(*self._args, **self._kwargs)\n",
      "  File \"C:\\Users\\melko\\Documents\\Huawei\\IntrinsicDim.py\", line 67, in _calc_ph_dim_single\n",
      "    tmp = self._sample_W(W, n)\n",
      "          ^^^^^^^^^^^^^^^^^^^^\n",
      "  File \"C:\\Users\\melko\\Documents\\Huawei\\IntrinsicDim.py\", line 51, in _sample_W\n",
      "    tmp = self._sample_W(W, n)\n",
      "          ^^^^^^^^^^^^^^^^^^^^\n",
      "  File \"C:\\Users\\melko\\Documents\\Huawei\\IntrinsicDim.py\", line 51, in _sample_W\n",
      "    tmp = self._sample_W(W, n)\n",
      "          ^^^^^^^^^^^^^^^^^^^^\n",
      "  File \"C:\\Users\\melko\\Documents\\Huawei\\IntrinsicDim.py\", line 51, in _sample_W\n",
      "    random_indices = np.random.choice(n, size=nSamples, replace=False)\n",
      "                     ^^^^^^^^^^^^^^^^^^^^^^^^^^^^^^^^^^^^^^^^^^^^^^^^^\n",
      "  File \"numpy\\\\random\\\\mtrand.pyx\", line 1001, in numpy.random.mtrand.RandomState.choice\n",
      "    random_indices = np.random.choice(n, size=nSamples, replace=False)\n",
      "                     ^^^^^^^^^^^^^^^^^^^^^^^^^^^^^^^^^^^^^^^^^^^^^^^^^\n",
      "  File \"numpy\\\\random\\\\mtrand.pyx\", line 1001, in numpy.random.mtrand.RandomState.choice\n",
      "    random_indices = np.random.choice(n, size=nSamples, replace=False)\n",
      "                     ^^^^^^^^^^^^^^^^^^^^^^^^^^^^^^^^^^^^^^^^^^^^^^^^^\n",
      "  File \"numpy\\\\random\\\\mtrand.pyx\", line 1001, in numpy.random.mtrand.RandomState.choice\n",
      "ValueError: Cannot take a larger sample than population when 'replace=False'\n",
      "ValueError: Cannot take a larger sample than population when 'replace=False'\n",
      "ValueError: Cannot take a larger sample than population when 'replace=False'\n",
      "gpt_w_3_paraphrase_40_40_output:  32%|█████████████████████▊                                              | 80/250 [00:30<01:03,  2.69it/s]Exception in thread Thread-6337 (_calc_ph_dim_single):\n",
      "Traceback (most recent call last):\n",
      "  File \"C:\\Users\\melko\\AppData\\Local\\Programs\\Python\\Python311\\Lib\\threading.py\", line 1038, in _bootstrap_inner\n",
      "Exception in thread Thread-6338 (_calc_ph_dim_single):\n",
      "Traceback (most recent call last):\n",
      "  File \"C:\\Users\\melko\\AppData\\Local\\Programs\\Python\\Python311\\Lib\\threading.py\", line 1038, in _bootstrap_inner\n",
      "Exception in thread Thread-6339 (_calc_ph_dim_single):\n",
      "Traceback (most recent call last):\n",
      "  File \"C:\\Users\\melko\\AppData\\Local\\Programs\\Python\\Python311\\Lib\\threading.py\", line 1038, in _bootstrap_inner\n",
      "    self.run()\n",
      "  File \"C:\\Users\\melko\\AppData\\Local\\Programs\\Python\\Python311\\Lib\\threading.py\", line 975, in run\n",
      "    self.run()\n",
      "  File \"C:\\Users\\melko\\AppData\\Local\\Programs\\Python\\Python311\\Lib\\threading.py\", line 975, in run\n",
      "    self.run()\n",
      "  File \"C:\\Users\\melko\\AppData\\Local\\Programs\\Python\\Python311\\Lib\\threading.py\", line 975, in run\n",
      "    self._target(*self._args, **self._kwargs)\n",
      "  File \"C:\\Users\\melko\\Documents\\Huawei\\IntrinsicDim.py\", line 67, in _calc_ph_dim_single\n",
      "    self._target(*self._args, **self._kwargs)\n",
      "  File \"C:\\Users\\melko\\Documents\\Huawei\\IntrinsicDim.py\", line 67, in _calc_ph_dim_single\n",
      "    self._target(*self._args, **self._kwargs)\n",
      "  File \"C:\\Users\\melko\\Documents\\Huawei\\IntrinsicDim.py\", line 67, in _calc_ph_dim_single\n",
      "    tmp = self._sample_W(W, n)\n",
      "          ^^^^^^^^^^^^^^^^^^^^\n",
      "  File \"C:\\Users\\melko\\Documents\\Huawei\\IntrinsicDim.py\", line 51, in _sample_W\n",
      "    tmp = self._sample_W(W, n)\n",
      "          ^^^^^^^^^^^^^^^^^^^^\n",
      "  File \"C:\\Users\\melko\\Documents\\Huawei\\IntrinsicDim.py\", line 51, in _sample_W\n",
      "    tmp = self._sample_W(W, n)\n",
      "          ^^^^^^^^^^^^^^^^^^^^\n",
      "  File \"C:\\Users\\melko\\Documents\\Huawei\\IntrinsicDim.py\", line 51, in _sample_W\n",
      "    random_indices = np.random.choice(n, size=nSamples, replace=False)\n",
      "                     ^^^^^^^^^^^^^^^^^^^^^^^^^^^^^^^^^^^^^^^^^^^^^^^^^\n",
      "  File \"numpy\\\\random\\\\mtrand.pyx\", line 1001, in numpy.random.mtrand.RandomState.choice\n",
      "    random_indices = np.random.choice(n, size=nSamples, replace=False)\n",
      "                     ^^^^^^^^^^^^^^^^^^^^^^^^^^^^^^^^^^^^^^^^^^^^^^^^^\n",
      "  File \"numpy\\\\random\\\\mtrand.pyx\", line 1001, in numpy.random.mtrand.RandomState.choice\n",
      "    random_indices = np.random.choice(n, size=nSamples, replace=False)\n",
      "                     ^^^^^^^^^^^^^^^^^^^^^^^^^^^^^^^^^^^^^^^^^^^^^^^^^\n",
      "  File \"numpy\\\\random\\\\mtrand.pyx\", line 1001, in numpy.random.mtrand.RandomState.choice\n",
      "ValueError: Cannot take a larger sample than population when 'replace=False'\n",
      "ValueError: Cannot take a larger sample than population when 'replace=False'\n",
      "ValueError: Cannot take a larger sample than population when 'replace=False'\n",
      "gpt_w_3_paraphrase_40_40_output:  34%|███████████████████████▍                                            | 86/250 [00:31<00:34,  4.71it/s]"
     ]
    },
    {
     "name": "stdout",
     "output_type": "stream",
     "text": [
      "range() arg 3 must not be zero\n"
     ]
    },
    {
     "name": "stderr",
     "output_type": "stream",
     "text": [
      "gpt_w_3_paraphrase_40_40_output:  36%|████████████████████████▍                                           | 90/250 [00:33<00:57,  2.79it/s]"
     ]
    },
    {
     "name": "stdout",
     "output_type": "stream",
     "text": [
      "range() arg 3 must not be zero\n"
     ]
    },
    {
     "name": "stderr",
     "output_type": "stream",
     "text": [
      "gpt_w_3_paraphrase_40_40_output:  38%|█████████████████████████▌                                          | 94/250 [00:34<01:10,  2.21it/s]Exception in thread Thread-6370 (_calc_ph_dim_single):\n",
      "Traceback (most recent call last):\n",
      "  File \"C:\\Users\\melko\\AppData\\Local\\Programs\\Python\\Python311\\Lib\\threading.py\", line 1038, in _bootstrap_inner\n",
      "Exception in thread Thread-6371 (_calc_ph_dim_single):\n",
      "Traceback (most recent call last):\n",
      "  File \"C:\\Users\\melko\\AppData\\Local\\Programs\\Python\\Python311\\Lib\\threading.py\", line 1038, in _bootstrap_inner\n",
      "    self.run()\n",
      "  File \"C:\\Users\\melko\\AppData\\Local\\Programs\\Python\\Python311\\Lib\\threading.py\", line 975, in run\n",
      "Exception in thread Thread-6372 (_calc_ph_dim_single):\n",
      "Traceback (most recent call last):\n",
      "  File \"C:\\Users\\melko\\AppData\\Local\\Programs\\Python\\Python311\\Lib\\threading.py\", line 1038, in _bootstrap_inner\n",
      "    self.run()\n",
      "  File \"C:\\Users\\melko\\AppData\\Local\\Programs\\Python\\Python311\\Lib\\threading.py\", line 975, in run\n",
      "    self._target(*self._args, **self._kwargs)\n",
      "  File \"C:\\Users\\melko\\Documents\\Huawei\\IntrinsicDim.py\", line 67, in _calc_ph_dim_single\n",
      "    self._target(*self._args, **self._kwargs)\n",
      "  File \"C:\\Users\\melko\\Documents\\Huawei\\IntrinsicDim.py\", line 67, in _calc_ph_dim_single\n",
      "    self.run()\n",
      "  File \"C:\\Users\\melko\\AppData\\Local\\Programs\\Python\\Python311\\Lib\\threading.py\", line 975, in run\n",
      "    tmp = self._sample_W(W, n)\n",
      "          ^^^^^^^^^^^^^^^^^^^^\n",
      "  File \"C:\\Users\\melko\\Documents\\Huawei\\IntrinsicDim.py\", line 51, in _sample_W\n",
      "    tmp = self._sample_W(W, n)\n",
      "          ^^^^^^^^^^^^^^^^^^^^\n",
      "  File \"C:\\Users\\melko\\Documents\\Huawei\\IntrinsicDim.py\", line 51, in _sample_W\n",
      "    self._target(*self._args, **self._kwargs)\n",
      "  File \"C:\\Users\\melko\\Documents\\Huawei\\IntrinsicDim.py\", line 67, in _calc_ph_dim_single\n",
      "    random_indices = np.random.choice(n, size=nSamples, replace=False)\n",
      "                     ^^^^^^^^^^^^^^^^^^^^^^^^^^^^^^^^^^^^^^^^^^^^^^^^^\n",
      "  File \"numpy\\\\random\\\\mtrand.pyx\", line 1001, in numpy.random.mtrand.RandomState.choice\n",
      "    random_indices = np.random.choice(n, size=nSamples, replace=False)\n",
      "                     ^^^^^^^^^^^^^^^^^^^^^^^^^^^^^^^^^^^^^^^^^^^^^^^^^\n",
      "  File \"numpy\\\\random\\\\mtrand.pyx\", line 1001, in numpy.random.mtrand.RandomState.choice\n",
      "    tmp = self._sample_W(W, n)\n",
      "          ^^^^^^^^^^^^^^^^^^^^\n",
      "  File \"C:\\Users\\melko\\Documents\\Huawei\\IntrinsicDim.py\", line 51, in _sample_W\n",
      "    random_indices = np.random.choice(n, size=nSamples, replace=False)\n",
      "                     ^^^^^^^^^^^^^^^^^^^^^^^^^^^^^^^^^^^^^^^^^^^^^^^^^\n",
      "  File \"numpy\\\\random\\\\mtrand.pyx\", line 1001, in numpy.random.mtrand.RandomState.choice\n",
      "ValueError: Cannot take a larger sample than population when 'replace=False'\n",
      "ValueError: Cannot take a larger sample than population when 'replace=False'\n",
      "ValueError: Cannot take a larger sample than population when 'replace=False'\n",
      "gpt_w_3_paraphrase_40_40_output:  46%|██████████████████████████████▌                                    | 114/250 [00:42<00:40,  3.36it/s]Exception in thread Thread-6430 (_calc_ph_dim_single):\n",
      "Traceback (most recent call last):\n",
      "  File \"C:\\Users\\melko\\AppData\\Local\\Programs\\Python\\Python311\\Lib\\threading.py\", line 1038, in _bootstrap_inner\n",
      "Exception in thread Thread-6431 (_calc_ph_dim_single):\n",
      "Traceback (most recent call last):\n",
      "  File \"C:\\Users\\melko\\AppData\\Local\\Programs\\Python\\Python311\\Lib\\threading.py\", line 1038, in _bootstrap_inner\n",
      "Exception in thread Thread-6432 (_calc_ph_dim_single):\n",
      "Traceback (most recent call last):\n",
      "  File \"C:\\Users\\melko\\AppData\\Local\\Programs\\Python\\Python311\\Lib\\threading.py\", line 1038, in _bootstrap_inner\n",
      "    self.run()\n",
      "  File \"C:\\Users\\melko\\AppData\\Local\\Programs\\Python\\Python311\\Lib\\threading.py\", line 975, in run\n",
      "    self.run()\n",
      "  File \"C:\\Users\\melko\\AppData\\Local\\Programs\\Python\\Python311\\Lib\\threading.py\", line 975, in run\n",
      "    self.run()\n",
      "  File \"C:\\Users\\melko\\AppData\\Local\\Programs\\Python\\Python311\\Lib\\threading.py\", line 975, in run\n",
      "    self._target(*self._args, **self._kwargs)\n",
      "  File \"C:\\Users\\melko\\Documents\\Huawei\\IntrinsicDim.py\", line 67, in _calc_ph_dim_single\n",
      "    self._target(*self._args, **self._kwargs)\n",
      "  File \"C:\\Users\\melko\\Documents\\Huawei\\IntrinsicDim.py\", line 67, in _calc_ph_dim_single\n",
      "    tmp = self._sample_W(W, n)\n",
      "          ^^^^^^^^^^^^^^^^^^^^\n",
      "  File \"C:\\Users\\melko\\Documents\\Huawei\\IntrinsicDim.py\", line 51, in _sample_W\n",
      "    tmp = self._sample_W(W, n)\n",
      "          ^^^^^^^^^^^^^^^^^^^^\n",
      "  File \"C:\\Users\\melko\\Documents\\Huawei\\IntrinsicDim.py\", line 51, in _sample_W\n",
      "    self._target(*self._args, **self._kwargs)\n",
      "  File \"C:\\Users\\melko\\Documents\\Huawei\\IntrinsicDim.py\", line 67, in _calc_ph_dim_single\n",
      "    random_indices = np.random.choice(n, size=nSamples, replace=False)\n",
      "                     ^^^^^^^^^^^^^^^^^^^^^^^^^^^^^^^^^^^^^^^^^^^^^^^^^\n",
      "  File \"numpy\\\\random\\\\mtrand.pyx\", line 1001, in numpy.random.mtrand.RandomState.choice\n",
      "    random_indices = np.random.choice(n, size=nSamples, replace=False)\n",
      "                     ^^^^^^^^^^^^^^^^^^^^^^^^^^^^^^^^^^^^^^^^^^^^^^^^^\n",
      "  File \"numpy\\\\random\\\\mtrand.pyx\", line 1001, in numpy.random.mtrand.RandomState.choice\n",
      "    tmp = self._sample_W(W, n)\n",
      "          ^^^^^^^^^^^^^^^^^^^^\n",
      "  File \"C:\\Users\\melko\\Documents\\Huawei\\IntrinsicDim.py\", line 51, in _sample_W\n",
      "    random_indices = np.random.choice(n, size=nSamples, replace=False)\n",
      "                     ^^^^^^^^^^^^^^^^^^^^^^^^^^^^^^^^^^^^^^^^^^^^^^^^^\n",
      "  File \"numpy\\\\random\\\\mtrand.pyx\", line 1001, in numpy.random.mtrand.RandomState.choice\n",
      "ValueError: Cannot take a larger sample than population when 'replace=False'\n",
      "ValueError: Cannot take a larger sample than population when 'replace=False'\n",
      "ValueError: Cannot take a larger sample than population when 'replace=False'\n",
      "gpt_w_3_paraphrase_40_40_output:  52%|███████████████████████████████████                                | 131/250 [00:48<00:42,  2.81it/s]Exception in thread Thread-6481 (_calc_ph_dim_single):\n",
      "Traceback (most recent call last):\n",
      "  File \"C:\\Users\\melko\\AppData\\Local\\Programs\\Python\\Python311\\Lib\\threading.py\", line 1038, in _bootstrap_inner\n",
      "Exception in thread Thread-6482 (_calc_ph_dim_single):\n",
      "Traceback (most recent call last):\n",
      "  File \"C:\\Users\\melko\\AppData\\Local\\Programs\\Python\\Python311\\Lib\\threading.py\", line 1038, in _bootstrap_inner\n",
      "Exception in thread Thread-6483 (_calc_ph_dim_single):\n",
      "Traceback (most recent call last):\n",
      "  File \"C:\\Users\\melko\\AppData\\Local\\Programs\\Python\\Python311\\Lib\\threading.py\", line 1038, in _bootstrap_inner\n",
      "    self.run()\n",
      "  File \"C:\\Users\\melko\\AppData\\Local\\Programs\\Python\\Python311\\Lib\\threading.py\", line 975, in run\n",
      "    self.run()\n",
      "  File \"C:\\Users\\melko\\AppData\\Local\\Programs\\Python\\Python311\\Lib\\threading.py\", line 975, in run\n",
      "    self.run()\n",
      "  File \"C:\\Users\\melko\\AppData\\Local\\Programs\\Python\\Python311\\Lib\\threading.py\", line 975, in run\n",
      "    self._target(*self._args, **self._kwargs)\n",
      "  File \"C:\\Users\\melko\\Documents\\Huawei\\IntrinsicDim.py\", line 67, in _calc_ph_dim_single\n",
      "    self._target(*self._args, **self._kwargs)\n",
      "  File \"C:\\Users\\melko\\Documents\\Huawei\\IntrinsicDim.py\", line 67, in _calc_ph_dim_single\n",
      "    self._target(*self._args, **self._kwargs)\n",
      "  File \"C:\\Users\\melko\\Documents\\Huawei\\IntrinsicDim.py\", line 67, in _calc_ph_dim_single\n",
      "    tmp = self._sample_W(W, n)\n",
      "          ^^^^^^^^^^^^^^^^^^^^\n",
      "  File \"C:\\Users\\melko\\Documents\\Huawei\\IntrinsicDim.py\", line 51, in _sample_W\n",
      "    tmp = self._sample_W(W, n)\n",
      "          ^^^^^^^^^^^^^^^^^^^^\n",
      "  File \"C:\\Users\\melko\\Documents\\Huawei\\IntrinsicDim.py\", line 51, in _sample_W\n",
      "    tmp = self._sample_W(W, n)\n",
      "          ^^^^^^^^^^^^^^^^^^^^\n",
      "  File \"C:\\Users\\melko\\Documents\\Huawei\\IntrinsicDim.py\", line 51, in _sample_W\n",
      "    random_indices = np.random.choice(n, size=nSamples, replace=False)\n",
      "                     ^^^^^^^^^^^^^^^^^^^^^^^^^^^^^^^^^^^^^^^^^^^^^^^^^\n",
      "  File \"numpy\\\\random\\\\mtrand.pyx\", line 1001, in numpy.random.mtrand.RandomState.choice\n",
      "    random_indices = np.random.choice(n, size=nSamples, replace=False)\n",
      "                     ^^^^^^^^^^^^^^^^^^^^^^^^^^^^^^^^^^^^^^^^^^^^^^^^^\n",
      "  File \"numpy\\\\random\\\\mtrand.pyx\", line 1001, in numpy.random.mtrand.RandomState.choice\n",
      "    random_indices = np.random.choice(n, size=nSamples, replace=False)\n",
      "                     ^^^^^^^^^^^^^^^^^^^^^^^^^^^^^^^^^^^^^^^^^^^^^^^^^\n",
      "  File \"numpy\\\\random\\\\mtrand.pyx\", line 1001, in numpy.random.mtrand.RandomState.choice\n",
      "ValueError: Cannot take a larger sample than population when 'replace=False'\n"
     ]
    },
    {
     "name": "stderr",
     "output_type": "stream",
     "text": [
      "ValueError: Cannot take a larger sample than population when 'replace=False'\n",
      "ValueError: Cannot take a larger sample than population when 'replace=False'\n",
      "gpt_w_3_paraphrase_40_40_output:  54%|████████████████████████████████████▏                              | 135/250 [00:51<00:57,  2.01it/s]Exception in thread Thread-6493 (_calc_ph_dim_single):\n",
      "Traceback (most recent call last):\n",
      "  File \"C:\\Users\\melko\\AppData\\Local\\Programs\\Python\\Python311\\Lib\\threading.py\", line 1038, in _bootstrap_inner\n",
      "    self.run()\n",
      "  File \"C:\\Users\\melko\\AppData\\Local\\Programs\\Python\\Python311\\Lib\\threading.py\", line 975, in run\n",
      "Exception in thread Thread-6494 (_calc_ph_dim_single):\n",
      "Traceback (most recent call last):\n",
      "  File \"C:\\Users\\melko\\AppData\\Local\\Programs\\Python\\Python311\\Lib\\threading.py\", line 1038, in _bootstrap_inner\n",
      "Exception in thread Thread-6495 (_calc_ph_dim_single):\n",
      "Traceback (most recent call last):\n",
      "  File \"C:\\Users\\melko\\AppData\\Local\\Programs\\Python\\Python311\\Lib\\threading.py\", line 1038, in _bootstrap_inner\n",
      "    self.run()\n",
      "  File \"C:\\Users\\melko\\AppData\\Local\\Programs\\Python\\Python311\\Lib\\threading.py\", line 975, in run\n",
      "    self._target(*self._args, **self._kwargs)\n",
      "  File \"C:\\Users\\melko\\Documents\\Huawei\\IntrinsicDim.py\", line 67, in _calc_ph_dim_single\n",
      "    self._target(*self._args, **self._kwargs)\n",
      "  File \"C:\\Users\\melko\\Documents\\Huawei\\IntrinsicDim.py\", line 67, in _calc_ph_dim_single\n",
      "    self.run()\n",
      "  File \"C:\\Users\\melko\\AppData\\Local\\Programs\\Python\\Python311\\Lib\\threading.py\", line 975, in run\n",
      "    tmp = self._sample_W(W, n)\n",
      "          ^^^^^^^^^^^^^^^^^^^^\n",
      "  File \"C:\\Users\\melko\\Documents\\Huawei\\IntrinsicDim.py\", line 51, in _sample_W\n",
      "    tmp = self._sample_W(W, n)\n",
      "          ^^^^^^^^^^^^^^^^^^^^\n",
      "  File \"C:\\Users\\melko\\Documents\\Huawei\\IntrinsicDim.py\", line 51, in _sample_W\n",
      "    self._target(*self._args, **self._kwargs)\n",
      "  File \"C:\\Users\\melko\\Documents\\Huawei\\IntrinsicDim.py\", line 67, in _calc_ph_dim_single\n",
      "    random_indices = np.random.choice(n, size=nSamples, replace=False)\n",
      "                     ^^^^^^^^^^^^^^^^^^^^^^^^^^^^^^^^^^^^^^^^^^^^^^^^^\n",
      "  File \"numpy\\\\random\\\\mtrand.pyx\", line 1001, in numpy.random.mtrand.RandomState.choice\n",
      "    tmp = self._sample_W(W, n)\n",
      "          ^^^^^^^^^^^^^^^^^^^^\n",
      "  File \"C:\\Users\\melko\\Documents\\Huawei\\IntrinsicDim.py\", line 51, in _sample_W\n",
      "    random_indices = np.random.choice(n, size=nSamples, replace=False)\n",
      "                     ^^^^^^^^^^^^^^^^^^^^^^^^^^^^^^^^^^^^^^^^^^^^^^^^^\n",
      "  File \"numpy\\\\random\\\\mtrand.pyx\", line 1001, in numpy.random.mtrand.RandomState.choice\n",
      "    random_indices = np.random.choice(n, size=nSamples, replace=False)\n",
      "                     ^^^^^^^^^^^^^^^^^^^^^^^^^^^^^^^^^^^^^^^^^^^^^^^^^\n",
      "  File \"numpy\\\\random\\\\mtrand.pyx\", line 1001, in numpy.random.mtrand.RandomState.choice\n",
      "ValueError: Cannot take a larger sample than population when 'replace=False'\n",
      "ValueError: Cannot take a larger sample than population when 'replace=False'\n",
      "ValueError: Cannot take a larger sample than population when 'replace=False'\n",
      "gpt_w_3_paraphrase_40_40_output:  56%|█████████████████████████████████████▎                             | 139/250 [00:52<00:54,  2.03it/s]"
     ]
    },
    {
     "name": "stdout",
     "output_type": "stream",
     "text": [
      "range() arg 3 must not be zero\n"
     ]
    },
    {
     "name": "stderr",
     "output_type": "stream",
     "text": [
      "gpt_w_3_paraphrase_40_40_output:  63%|██████████████████████████████████████████▎                        | 158/250 [01:01<00:35,  2.63it/s]Exception in thread Thread-6559 (_calc_ph_dim_single):\n",
      "Traceback (most recent call last):\n",
      "  File \"C:\\Users\\melko\\AppData\\Local\\Programs\\Python\\Python311\\Lib\\threading.py\", line 1038, in _bootstrap_inner\n",
      "Exception in thread Thread-6560 (_calc_ph_dim_single):\n",
      "Traceback (most recent call last):\n",
      "  File \"C:\\Users\\melko\\AppData\\Local\\Programs\\Python\\Python311\\Lib\\threading.py\", line 1038, in _bootstrap_inner\n",
      "Exception in thread Thread-6561 (_calc_ph_dim_single):\n",
      "Traceback (most recent call last):\n",
      "  File \"C:\\Users\\melko\\AppData\\Local\\Programs\\Python\\Python311\\Lib\\threading.py\", line 1038, in _bootstrap_inner\n",
      "    self.run()\n",
      "  File \"C:\\Users\\melko\\AppData\\Local\\Programs\\Python\\Python311\\Lib\\threading.py\", line 975, in run\n",
      "    self.run()\n",
      "  File \"C:\\Users\\melko\\AppData\\Local\\Programs\\Python\\Python311\\Lib\\threading.py\", line 975, in run\n",
      "    self.run()\n",
      "  File \"C:\\Users\\melko\\AppData\\Local\\Programs\\Python\\Python311\\Lib\\threading.py\", line 975, in run\n",
      "    self._target(*self._args, **self._kwargs)\n",
      "  File \"C:\\Users\\melko\\Documents\\Huawei\\IntrinsicDim.py\", line 67, in _calc_ph_dim_single\n",
      "    self._target(*self._args, **self._kwargs)\n",
      "  File \"C:\\Users\\melko\\Documents\\Huawei\\IntrinsicDim.py\", line 67, in _calc_ph_dim_single\n",
      "    tmp = self._sample_W(W, n)\n",
      "          ^^^^^^^^^^^^^^^^^^^^\n",
      "  File \"C:\\Users\\melko\\Documents\\Huawei\\IntrinsicDim.py\", line 51, in _sample_W\n",
      "    tmp = self._sample_W(W, n)\n",
      "          ^^^^^^^^^^^^^^^^^^^^\n",
      "  File \"C:\\Users\\melko\\Documents\\Huawei\\IntrinsicDim.py\", line 51, in _sample_W\n",
      "    self._target(*self._args, **self._kwargs)\n",
      "  File \"C:\\Users\\melko\\Documents\\Huawei\\IntrinsicDim.py\", line 67, in _calc_ph_dim_single\n",
      "    random_indices = np.random.choice(n, size=nSamples, replace=False)\n",
      "                     ^^^^^^^^^^^^^^^^^^^^^^^^^^^^^^^^^^^^^^^^^^^^^^^^^\n",
      "  File \"numpy\\\\random\\\\mtrand.pyx\", line 1001, in numpy.random.mtrand.RandomState.choice\n",
      "    random_indices = np.random.choice(n, size=nSamples, replace=False)\n",
      "                     ^^^^^^^^^^^^^^^^^^^^^^^^^^^^^^^^^^^^^^^^^^^^^^^^^\n",
      "  File \"numpy\\\\random\\\\mtrand.pyx\", line 1001, in numpy.random.mtrand.RandomState.choice\n",
      "    tmp = self._sample_W(W, n)\n",
      "          ^^^^^^^^^^^^^^^^^^^^\n",
      "  File \"C:\\Users\\melko\\Documents\\Huawei\\IntrinsicDim.py\", line 51, in _sample_W\n",
      "    random_indices = np.random.choice(n, size=nSamples, replace=False)\n",
      "                     ^^^^^^^^^^^^^^^^^^^^^^^^^^^^^^^^^^^^^^^^^^^^^^^^^\n",
      "  File \"numpy\\\\random\\\\mtrand.pyx\", line 1001, in numpy.random.mtrand.RandomState.choice\n",
      "ValueError: Cannot take a larger sample than population when 'replace=False'\n",
      "ValueError: Cannot take a larger sample than population when 'replace=False'\n",
      "ValueError: Cannot take a larger sample than population when 'replace=False'\n",
      "gpt_w_3_paraphrase_40_40_output:  64%|██████████████████████████████████████████▌                        | 159/250 [01:01<00:27,  3.33it/s]Exception in thread Thread-6562 (_calc_ph_dim_single):\n",
      "Traceback (most recent call last):\n",
      "  File \"C:\\Users\\melko\\AppData\\Local\\Programs\\Python\\Python311\\Lib\\threading.py\", line 1038, in _bootstrap_inner\n",
      "Exception in thread Thread-6563 (_calc_ph_dim_single):\n",
      "Traceback (most recent call last):\n",
      "  File \"C:\\Users\\melko\\AppData\\Local\\Programs\\Python\\Python311\\Lib\\threading.py\", line 1038, in _bootstrap_inner\n",
      "Exception in thread Thread-6564 (_calc_ph_dim_single):\n",
      "Traceback (most recent call last):\n",
      "  File \"C:\\Users\\melko\\AppData\\Local\\Programs\\Python\\Python311\\Lib\\threading.py\", line 1038, in _bootstrap_inner\n",
      "    self.run()\n",
      "  File \"C:\\Users\\melko\\AppData\\Local\\Programs\\Python\\Python311\\Lib\\threading.py\", line 975, in run\n",
      "    self.run()\n",
      "  File \"C:\\Users\\melko\\AppData\\Local\\Programs\\Python\\Python311\\Lib\\threading.py\", line 975, in run\n",
      "    self.run()\n",
      "  File \"C:\\Users\\melko\\AppData\\Local\\Programs\\Python\\Python311\\Lib\\threading.py\", line 975, in run\n",
      "    self._target(*self._args, **self._kwargs)\n",
      "  File \"C:\\Users\\melko\\Documents\\Huawei\\IntrinsicDim.py\", line 67, in _calc_ph_dim_single\n",
      "    self._target(*self._args, **self._kwargs)\n",
      "  File \"C:\\Users\\melko\\Documents\\Huawei\\IntrinsicDim.py\", line 67, in _calc_ph_dim_single\n",
      "    self._target(*self._args, **self._kwargs)\n",
      "  File \"C:\\Users\\melko\\Documents\\Huawei\\IntrinsicDim.py\", line 67, in _calc_ph_dim_single\n",
      "    tmp = self._sample_W(W, n)\n",
      "          ^^^^^^^^^^^^^^^^^^^^\n",
      "  File \"C:\\Users\\melko\\Documents\\Huawei\\IntrinsicDim.py\", line 51, in _sample_W\n",
      "    tmp = self._sample_W(W, n)\n",
      "          ^^^^^^^^^^^^^^^^^^^^\n",
      "  File \"C:\\Users\\melko\\Documents\\Huawei\\IntrinsicDim.py\", line 51, in _sample_W\n",
      "    tmp = self._sample_W(W, n)\n",
      "          ^^^^^^^^^^^^^^^^^^^^\n",
      "  File \"C:\\Users\\melko\\Documents\\Huawei\\IntrinsicDim.py\", line 51, in _sample_W\n",
      "    random_indices = np.random.choice(n, size=nSamples, replace=False)\n",
      "                     ^^^^^^^^^^^^^^^^^^^^^^^^^^^^^^^^^^^^^^^^^^^^^^^^^\n",
      "  File \"numpy\\\\random\\\\mtrand.pyx\", line 1001, in numpy.random.mtrand.RandomState.choice\n",
      "    random_indices = np.random.choice(n, size=nSamples, replace=False)\n",
      "                     ^^^^^^^^^^^^^^^^^^^^^^^^^^^^^^^^^^^^^^^^^^^^^^^^^\n",
      "  File \"numpy\\\\random\\\\mtrand.pyx\", line 1001, in numpy.random.mtrand.RandomState.choice\n",
      "    random_indices = np.random.choice(n, size=nSamples, replace=False)\n",
      "                     ^^^^^^^^^^^^^^^^^^^^^^^^^^^^^^^^^^^^^^^^^^^^^^^^^\n",
      "  File \"numpy\\\\random\\\\mtrand.pyx\", line 1001, in numpy.random.mtrand.RandomState.choice\n",
      "ValueError: Cannot take a larger sample than population when 'replace=False'\n",
      "ValueError: Cannot take a larger sample than population when 'replace=False'\n",
      "ValueError: Cannot take a larger sample than population when 'replace=False'\n",
      "gpt_w_3_paraphrase_40_40_output:  71%|███████████████████████████████████████████████▍                   | 177/250 [01:07<00:26,  2.71it/s]Exception in thread Thread-6616 (_calc_ph_dim_single):\n",
      "Traceback (most recent call last):\n",
      "  File \"C:\\Users\\melko\\AppData\\Local\\Programs\\Python\\Python311\\Lib\\threading.py\", line 1038, in _bootstrap_inner\n",
      "Exception in thread Thread-6617 (_calc_ph_dim_single):\n",
      "Traceback (most recent call last):\n",
      "  File \"C:\\Users\\melko\\AppData\\Local\\Programs\\Python\\Python311\\Lib\\threading.py\", line 1038, in _bootstrap_inner\n",
      "Exception in thread Thread-6618 (_calc_ph_dim_single):\n",
      "Traceback (most recent call last):\n",
      "  File \"C:\\Users\\melko\\AppData\\Local\\Programs\\Python\\Python311\\Lib\\threading.py\", line 1038, in _bootstrap_inner\n",
      "    self.run()\n",
      "  File \"C:\\Users\\melko\\AppData\\Local\\Programs\\Python\\Python311\\Lib\\threading.py\", line 975, in run\n",
      "    self.run()\n",
      "  File \"C:\\Users\\melko\\AppData\\Local\\Programs\\Python\\Python311\\Lib\\threading.py\", line 975, in run\n",
      "    self.run()\n",
      "  File \"C:\\Users\\melko\\AppData\\Local\\Programs\\Python\\Python311\\Lib\\threading.py\", line 975, in run\n",
      "    self._target(*self._args, **self._kwargs)\n",
      "  File \"C:\\Users\\melko\\Documents\\Huawei\\IntrinsicDim.py\", line 67, in _calc_ph_dim_single\n",
      "    self._target(*self._args, **self._kwargs)\n",
      "  File \"C:\\Users\\melko\\Documents\\Huawei\\IntrinsicDim.py\", line 67, in _calc_ph_dim_single\n",
      "    self._target(*self._args, **self._kwargs)\n",
      "  File \"C:\\Users\\melko\\Documents\\Huawei\\IntrinsicDim.py\", line 67, in _calc_ph_dim_single\n",
      "    tmp = self._sample_W(W, n)\n",
      "          ^^^^^^^^^^^^^^^^^^^^\n",
      "  File \"C:\\Users\\melko\\Documents\\Huawei\\IntrinsicDim.py\", line 51, in _sample_W\n",
      "    tmp = self._sample_W(W, n)\n",
      "          ^^^^^^^^^^^^^^^^^^^^\n",
      "  File \"C:\\Users\\melko\\Documents\\Huawei\\IntrinsicDim.py\", line 51, in _sample_W\n",
      "    tmp = self._sample_W(W, n)\n",
      "          ^^^^^^^^^^^^^^^^^^^^\n",
      "  File \"C:\\Users\\melko\\Documents\\Huawei\\IntrinsicDim.py\", line 51, in _sample_W\n",
      "    random_indices = np.random.choice(n, size=nSamples, replace=False)\n",
      "                     ^^^^^^^^^^^^^^^^^^^^^^^^^^^^^^^^^^^^^^^^^^^^^^^^^\n",
      "  File \"numpy\\\\random\\\\mtrand.pyx\", line 1001, in numpy.random.mtrand.RandomState.choice\n",
      "    random_indices = np.random.choice(n, size=nSamples, replace=False)\n",
      "                     ^^^^^^^^^^^^^^^^^^^^^^^^^^^^^^^^^^^^^^^^^^^^^^^^^\n",
      "  File \"numpy\\\\random\\\\mtrand.pyx\", line 1001, in numpy.random.mtrand.RandomState.choice\n",
      "    random_indices = np.random.choice(n, size=nSamples, replace=False)\n",
      "                     ^^^^^^^^^^^^^^^^^^^^^^^^^^^^^^^^^^^^^^^^^^^^^^^^^\n",
      "  File \"numpy\\\\random\\\\mtrand.pyx\", line 1001, in numpy.random.mtrand.RandomState.choice\n",
      "ValueError: Cannot take a larger sample than population when 'replace=False'\n"
     ]
    },
    {
     "name": "stderr",
     "output_type": "stream",
     "text": [
      "ValueError: Cannot take a larger sample than population when 'replace=False'\n",
      "ValueError: Cannot take a larger sample than population when 'replace=False'\n",
      "gpt_w_3_paraphrase_40_40_output:  83%|███████████████████████████████████████████████████████▋           | 208/250 [01:18<00:15,  2.76it/s]Exception in thread Thread-6709 (_calc_ph_dim_single):\n",
      "Traceback (most recent call last):\n",
      "  File \"C:\\Users\\melko\\AppData\\Local\\Programs\\Python\\Python311\\Lib\\threading.py\", line 1038, in _bootstrap_inner\n",
      "Exception in thread Thread-6710 (_calc_ph_dim_single):\n",
      "Traceback (most recent call last):\n",
      "  File \"C:\\Users\\melko\\AppData\\Local\\Programs\\Python\\Python311\\Lib\\threading.py\", line 1038, in _bootstrap_inner\n",
      "Exception in thread Thread-6711 (_calc_ph_dim_single):\n",
      "Traceback (most recent call last):\n",
      "  File \"C:\\Users\\melko\\AppData\\Local\\Programs\\Python\\Python311\\Lib\\threading.py\", line 1038, in _bootstrap_inner\n",
      "    self.run()\n",
      "  File \"C:\\Users\\melko\\AppData\\Local\\Programs\\Python\\Python311\\Lib\\threading.py\", line 975, in run\n",
      "    self.run()\n",
      "  File \"C:\\Users\\melko\\AppData\\Local\\Programs\\Python\\Python311\\Lib\\threading.py\", line 975, in run\n",
      "    self.run()\n",
      "  File \"C:\\Users\\melko\\AppData\\Local\\Programs\\Python\\Python311\\Lib\\threading.py\", line 975, in run\n",
      "    self._target(*self._args, **self._kwargs)\n",
      "  File \"C:\\Users\\melko\\Documents\\Huawei\\IntrinsicDim.py\", line 67, in _calc_ph_dim_single\n",
      "    self._target(*self._args, **self._kwargs)\n",
      "  File \"C:\\Users\\melko\\Documents\\Huawei\\IntrinsicDim.py\", line 67, in _calc_ph_dim_single\n",
      "    self._target(*self._args, **self._kwargs)\n",
      "  File \"C:\\Users\\melko\\Documents\\Huawei\\IntrinsicDim.py\", line 67, in _calc_ph_dim_single\n",
      "    tmp = self._sample_W(W, n)\n",
      "          ^^^^^^^^^^^^^^^^^^^^\n",
      "  File \"C:\\Users\\melko\\Documents\\Huawei\\IntrinsicDim.py\", line 51, in _sample_W\n",
      "    tmp = self._sample_W(W, n)\n",
      "          ^^^^^^^^^^^^^^^^^^^^\n",
      "  File \"C:\\Users\\melko\\Documents\\Huawei\\IntrinsicDim.py\", line 51, in _sample_W\n",
      "    tmp = self._sample_W(W, n)\n",
      "          ^^^^^^^^^^^^^^^^^^^^\n",
      "  File \"C:\\Users\\melko\\Documents\\Huawei\\IntrinsicDim.py\", line 51, in _sample_W\n",
      "    random_indices = np.random.choice(n, size=nSamples, replace=False)\n",
      "                     ^^^^^^^^^^^^^^^^^^^^^^^^^^^^^^^^^^^^^^^^^^^^^^^^^\n",
      "  File \"numpy\\\\random\\\\mtrand.pyx\", line 1001, in numpy.random.mtrand.RandomState.choice\n",
      "    random_indices = np.random.choice(n, size=nSamples, replace=False)\n",
      "                     ^^^^^^^^^^^^^^^^^^^^^^^^^^^^^^^^^^^^^^^^^^^^^^^^^\n",
      "  File \"numpy\\\\random\\\\mtrand.pyx\", line 1001, in numpy.random.mtrand.RandomState.choice\n",
      "    random_indices = np.random.choice(n, size=nSamples, replace=False)\n",
      "                     ^^^^^^^^^^^^^^^^^^^^^^^^^^^^^^^^^^^^^^^^^^^^^^^^^\n",
      "  File \"numpy\\\\random\\\\mtrand.pyx\", line 1001, in numpy.random.mtrand.RandomState.choice\n",
      "ValueError: Cannot take a larger sample than population when 'replace=False'\n",
      "ValueError: Cannot take a larger sample than population when 'replace=False'\n",
      "ValueError: Cannot take a larger sample than population when 'replace=False'\n",
      "gpt_w_3_paraphrase_40_40_output:  87%|██████████████████████████████████████████████████████████▏        | 217/250 [01:20<00:11,  2.99it/s]"
     ]
    },
    {
     "name": "stdout",
     "output_type": "stream",
     "text": [
      "range() arg 3 must not be zero\n"
     ]
    },
    {
     "name": "stderr",
     "output_type": "stream",
     "text": [
      "gpt_w_3_paraphrase_40_40_output:  90%|████████████████████████████████████████████████████████████▌      | 226/250 [01:25<00:12,  1.92it/s]"
     ]
    },
    {
     "name": "stdout",
     "output_type": "stream",
     "text": [
      "range() arg 3 must not be zero\n"
     ]
    },
    {
     "name": "stderr",
     "output_type": "stream",
     "text": [
      "gpt_w_3_paraphrase_40_40_output:  92%|█████████████████████████████████████████████████████████████▉     | 231/250 [01:26<00:07,  2.59it/s]Exception in thread Thread-6772 (_calc_ph_dim_single):\n",
      "Traceback (most recent call last):\n",
      "  File \"C:\\Users\\melko\\AppData\\Local\\Programs\\Python\\Python311\\Lib\\threading.py\", line 1038, in _bootstrap_inner\n",
      "Exception in thread Thread-6773 (_calc_ph_dim_single):\n",
      "Traceback (most recent call last):\n",
      "  File \"C:\\Users\\melko\\AppData\\Local\\Programs\\Python\\Python311\\Lib\\threading.py\", line 1038, in _bootstrap_inner\n",
      "Exception in thread Thread-6774 (_calc_ph_dim_single):\n",
      "Traceback (most recent call last):\n",
      "  File \"C:\\Users\\melko\\AppData\\Local\\Programs\\Python\\Python311\\Lib\\threading.py\", line 1038, in _bootstrap_inner\n",
      "    self.run()\n",
      "  File \"C:\\Users\\melko\\AppData\\Local\\Programs\\Python\\Python311\\Lib\\threading.py\", line 975, in run\n",
      "    self.run()\n",
      "  File \"C:\\Users\\melko\\AppData\\Local\\Programs\\Python\\Python311\\Lib\\threading.py\", line 975, in run\n",
      "    self.run()\n",
      "  File \"C:\\Users\\melko\\AppData\\Local\\Programs\\Python\\Python311\\Lib\\threading.py\", line 975, in run\n",
      "    self._target(*self._args, **self._kwargs)\n",
      "  File \"C:\\Users\\melko\\Documents\\Huawei\\IntrinsicDim.py\", line 67, in _calc_ph_dim_single\n",
      "    self._target(*self._args, **self._kwargs)\n",
      "  File \"C:\\Users\\melko\\Documents\\Huawei\\IntrinsicDim.py\", line 67, in _calc_ph_dim_single\n",
      "    tmp = self._sample_W(W, n)\n",
      "          ^^^^^^^^^^^^^^^^^^^^\n",
      "  File \"C:\\Users\\melko\\Documents\\Huawei\\IntrinsicDim.py\", line 51, in _sample_W\n",
      "    self._target(*self._args, **self._kwargs)\n",
      "  File \"C:\\Users\\melko\\Documents\\Huawei\\IntrinsicDim.py\", line 67, in _calc_ph_dim_single\n",
      "    tmp = self._sample_W(W, n)\n",
      "          ^^^^^^^^^^^^^^^^^^^^\n",
      "  File \"C:\\Users\\melko\\Documents\\Huawei\\IntrinsicDim.py\", line 51, in _sample_W\n",
      "    random_indices = np.random.choice(n, size=nSamples, replace=False)\n",
      "                     ^^^^^^^^^^^^^^^^^^^^^^^^^^^^^^^^^^^^^^^^^^^^^^^^^\n",
      "  File \"numpy\\\\random\\\\mtrand.pyx\", line 1001, in numpy.random.mtrand.RandomState.choice\n",
      "    random_indices = np.random.choice(n, size=nSamples, replace=False)\n",
      "                     ^^^^^^^^^^^^^^^^^^^^^^^^^^^^^^^^^^^^^^^^^^^^^^^^^\n",
      "  File \"numpy\\\\random\\\\mtrand.pyx\", line 1001, in numpy.random.mtrand.RandomState.choice\n",
      "    tmp = self._sample_W(W, n)\n",
      "          ^^^^^^^^^^^^^^^^^^^^\n",
      "  File \"C:\\Users\\melko\\Documents\\Huawei\\IntrinsicDim.py\", line 51, in _sample_W\n",
      "    random_indices = np.random.choice(n, size=nSamples, replace=False)\n",
      "                     ^^^^^^^^^^^^^^^^^^^^^^^^^^^^^^^^^^^^^^^^^^^^^^^^^\n",
      "  File \"numpy\\\\random\\\\mtrand.pyx\", line 1001, in numpy.random.mtrand.RandomState.choice\n",
      "ValueError: Cannot take a larger sample than population when 'replace=False'\n",
      "ValueError: Cannot take a larger sample than population when 'replace=False'\n",
      "ValueError: Cannot take a larger sample than population when 'replace=False'\n",
      "gpt_w_3_paraphrase_40_40_output: 100%|███████████████████████████████████████████████████████████████████| 250/250 [01:32<00:00,  2.70it/s]\n"
     ]
    },
    {
     "name": "stdout",
     "output_type": "stream",
     "text": [
      "gpt_w_3_paraphrase_40_40_output: mean = nan, std = nan\n"
     ]
    },
    {
     "name": "stderr",
     "output_type": "stream",
     "text": [
      "gpt_w_3_paraphrase_40_100_input: 100%|███████████████████████████████████████████████████████████████████| 250/250 [02:42<00:00,  1.54it/s]\n"
     ]
    },
    {
     "name": "stdout",
     "output_type": "stream",
     "text": [
      "gpt_w_3_paraphrase_40_100_input: mean = 7.854320046085386, std = 1.211131808044493\n"
     ]
    },
    {
     "name": "stderr",
     "output_type": "stream",
     "text": [
      "gpt_w_3_paraphrase_40_100_output:   5%|███▏                                                               | 12/250 [00:03<01:07,  3.50it/s]"
     ]
    },
    {
     "name": "stdout",
     "output_type": "stream",
     "text": [
      "range() arg 3 must not be zero\n"
     ]
    },
    {
     "name": "stderr",
     "output_type": "stream",
     "text": [
      "gpt_w_3_paraphrase_40_100_output:  22%|██████████████▋                                                    | 55/250 [00:22<01:19,  2.44it/s]Exception in thread Thread-7741 (_calc_ph_dim_single):\n",
      "Traceback (most recent call last):\n",
      "  File \"C:\\Users\\melko\\AppData\\Local\\Programs\\Python\\Python311\\Lib\\threading.py\", line 1038, in _bootstrap_inner\n",
      "Exception in thread Thread-7742 (_calc_ph_dim_single):\n",
      "Traceback (most recent call last):\n",
      "  File \"C:\\Users\\melko\\AppData\\Local\\Programs\\Python\\Python311\\Lib\\threading.py\", line 1038, in _bootstrap_inner\n",
      "Exception in thread Thread-7743 (_calc_ph_dim_single):\n",
      "Traceback (most recent call last):\n",
      "  File \"C:\\Users\\melko\\AppData\\Local\\Programs\\Python\\Python311\\Lib\\threading.py\", line 1038, in _bootstrap_inner\n",
      "    self.run()\n",
      "  File \"C:\\Users\\melko\\AppData\\Local\\Programs\\Python\\Python311\\Lib\\threading.py\", line 975, in run\n",
      "    self.run()\n",
      "  File \"C:\\Users\\melko\\AppData\\Local\\Programs\\Python\\Python311\\Lib\\threading.py\", line 975, in run\n",
      "    self._target(*self._args, **self._kwargs)\n",
      "  File \"C:\\Users\\melko\\Documents\\Huawei\\IntrinsicDim.py\", line 67, in _calc_ph_dim_single\n",
      "    self.run()\n",
      "  File \"C:\\Users\\melko\\AppData\\Local\\Programs\\Python\\Python311\\Lib\\threading.py\", line 975, in run\n",
      "    tmp = self._sample_W(W, n)\n",
      "          ^^^^^^^^^^^^^^^^^^^^\n",
      "  File \"C:\\Users\\melko\\Documents\\Huawei\\IntrinsicDim.py\", line 51, in _sample_W\n",
      "    self._target(*self._args, **self._kwargs)\n",
      "  File \"C:\\Users\\melko\\Documents\\Huawei\\IntrinsicDim.py\", line 67, in _calc_ph_dim_single\n",
      "    random_indices = np.random.choice(n, size=nSamples, replace=False)\n",
      "                     ^^^^^^^^^^^^^^^^^^^^^^^^^^^^^^^^^^^^^^^^^^^^^^^^^\n",
      "  File \"numpy\\\\random\\\\mtrand.pyx\", line 1001, in numpy.random.mtrand.RandomState.choice\n",
      "    self._target(*self._args, **self._kwargs)\n",
      "  File \"C:\\Users\\melko\\Documents\\Huawei\\IntrinsicDim.py\", line 67, in _calc_ph_dim_single\n",
      "    tmp = self._sample_W(W, n)\n",
      "          ^^^^^^^^^^^^^^^^^^^^\n",
      "  File \"C:\\Users\\melko\\Documents\\Huawei\\IntrinsicDim.py\", line 51, in _sample_W\n",
      "    tmp = self._sample_W(W, n)\n",
      "          ^^^^^^^^^^^^^^^^^^^^\n",
      "  File \"C:\\Users\\melko\\Documents\\Huawei\\IntrinsicDim.py\", line 51, in _sample_W\n",
      "    random_indices = np.random.choice(n, size=nSamples, replace=False)\n",
      "                     ^^^^^^^^^^^^^^^^^^^^^^^^^^^^^^^^^^^^^^^^^^^^^^^^^\n",
      "  File \"numpy\\\\random\\\\mtrand.pyx\", line 1001, in numpy.random.mtrand.RandomState.choice\n",
      "    random_indices = np.random.choice(n, size=nSamples, replace=False)\n",
      "                     ^^^^^^^^^^^^^^^^^^^^^^^^^^^^^^^^^^^^^^^^^^^^^^^^^\n",
      "  File \"numpy\\\\random\\\\mtrand.pyx\", line 1001, in numpy.random.mtrand.RandomState.choice\n",
      "ValueError: Cannot take a larger sample than population when 'replace=False'\n",
      "ValueError: Cannot take a larger sample than population when 'replace=False'\n",
      "ValueError: Cannot take a larger sample than population when 'replace=False'\n",
      "gpt_w_3_paraphrase_40_100_output:  33%|█████████████████████▉                                             | 82/250 [00:31<00:40,  4.12it/s]"
     ]
    },
    {
     "name": "stdout",
     "output_type": "stream",
     "text": [
      "range() arg 3 must not be zero\n"
     ]
    },
    {
     "name": "stderr",
     "output_type": "stream",
     "text": [
      "gpt_w_3_paraphrase_40_100_output:  38%|█████████████████████████▏                                         | 94/250 [00:37<01:31,  1.70it/s]Exception in thread Thread-7855 (_calc_ph_dim_single):\n",
      "Traceback (most recent call last):\n",
      "  File \"C:\\Users\\melko\\AppData\\Local\\Programs\\Python\\Python311\\Lib\\threading.py\", line 1038, in _bootstrap_inner\n",
      "Exception in thread Thread-7856 (_calc_ph_dim_single):\n",
      "Traceback (most recent call last):\n",
      "  File \"C:\\Users\\melko\\AppData\\Local\\Programs\\Python\\Python311\\Lib\\threading.py\", line 1038, in _bootstrap_inner\n",
      "Exception in thread Thread-7857 (_calc_ph_dim_single):\n",
      "Traceback (most recent call last):\n",
      "  File \"C:\\Users\\melko\\AppData\\Local\\Programs\\Python\\Python311\\Lib\\threading.py\", line 1038, in _bootstrap_inner\n",
      "    self.run()\n",
      "  File \"C:\\Users\\melko\\AppData\\Local\\Programs\\Python\\Python311\\Lib\\threading.py\", line 975, in run\n",
      "    self.run()\n",
      "  File \"C:\\Users\\melko\\AppData\\Local\\Programs\\Python\\Python311\\Lib\\threading.py\", line 975, in run\n",
      "    self.run()\n",
      "  File \"C:\\Users\\melko\\AppData\\Local\\Programs\\Python\\Python311\\Lib\\threading.py\", line 975, in run\n",
      "    self._target(*self._args, **self._kwargs)\n",
      "  File \"C:\\Users\\melko\\Documents\\Huawei\\IntrinsicDim.py\", line 67, in _calc_ph_dim_single\n",
      "    self._target(*self._args, **self._kwargs)\n",
      "  File \"C:\\Users\\melko\\Documents\\Huawei\\IntrinsicDim.py\", line 67, in _calc_ph_dim_single\n",
      "    tmp = self._sample_W(W, n)\n",
      "          ^^^^^^^^^^^^^^^^^^^^\n",
      "  File \"C:\\Users\\melko\\Documents\\Huawei\\IntrinsicDim.py\", line 51, in _sample_W\n",
      "    tmp = self._sample_W(W, n)\n",
      "          ^^^^^^^^^^^^^^^^^^^^\n",
      "  File \"C:\\Users\\melko\\Documents\\Huawei\\IntrinsicDim.py\", line 51, in _sample_W\n",
      "    self._target(*self._args, **self._kwargs)\n",
      "  File \"C:\\Users\\melko\\Documents\\Huawei\\IntrinsicDim.py\", line 67, in _calc_ph_dim_single\n",
      "    random_indices = np.random.choice(n, size=nSamples, replace=False)\n",
      "                     ^^^^^^^^^^^^^^^^^^^^^^^^^^^^^^^^^^^^^^^^^^^^^^^^^\n",
      "  File \"numpy\\\\random\\\\mtrand.pyx\", line 1001, in numpy.random.mtrand.RandomState.choice\n",
      "    random_indices = np.random.choice(n, size=nSamples, replace=False)\n",
      "                     ^^^^^^^^^^^^^^^^^^^^^^^^^^^^^^^^^^^^^^^^^^^^^^^^^\n",
      "  File \"numpy\\\\random\\\\mtrand.pyx\", line 1001, in numpy.random.mtrand.RandomState.choice\n",
      "    tmp = self._sample_W(W, n)\n",
      "          ^^^^^^^^^^^^^^^^^^^^\n",
      "  File \"C:\\Users\\melko\\Documents\\Huawei\\IntrinsicDim.py\", line 51, in _sample_W\n",
      "    random_indices = np.random.choice(n, size=nSamples, replace=False)\n",
      "                     ^^^^^^^^^^^^^^^^^^^^^^^^^^^^^^^^^^^^^^^^^^^^^^^^^\n",
      "  File \"numpy\\\\random\\\\mtrand.pyx\", line 1001, in numpy.random.mtrand.RandomState.choice\n",
      "ValueError: Cannot take a larger sample than population when 'replace=False'\n",
      "ValueError: Cannot take a larger sample than population when 'replace=False'\n",
      "ValueError: Cannot take a larger sample than population when 'replace=False'\n",
      "gpt_w_3_paraphrase_40_100_output:  38%|█████████████████████████▋                                         | 96/250 [00:38<01:24,  1.83it/s]Exception in thread Thread-7861 (_calc_ph_dim_single):\n",
      "Traceback (most recent call last):\n",
      "  File \"C:\\Users\\melko\\AppData\\Local\\Programs\\Python\\Python311\\Lib\\threading.py\", line 1038, in _bootstrap_inner\n",
      "Exception in thread Thread-7862 (_calc_ph_dim_single):\n",
      "Traceback (most recent call last):\n",
      "  File \"C:\\Users\\melko\\AppData\\Local\\Programs\\Python\\Python311\\Lib\\threading.py\", line 1038, in _bootstrap_inner\n",
      "Exception in thread Thread-7863 (_calc_ph_dim_single):\n",
      "Traceback (most recent call last):\n",
      "  File \"C:\\Users\\melko\\AppData\\Local\\Programs\\Python\\Python311\\Lib\\threading.py\", line 1038, in _bootstrap_inner\n",
      "    self.run()\n",
      "  File \"C:\\Users\\melko\\AppData\\Local\\Programs\\Python\\Python311\\Lib\\threading.py\", line 975, in run\n",
      "    self.run()\n",
      "  File \"C:\\Users\\melko\\AppData\\Local\\Programs\\Python\\Python311\\Lib\\threading.py\", line 975, in run\n",
      "    self._target(*self._args, **self._kwargs)\n",
      "  File \"C:\\Users\\melko\\Documents\\Huawei\\IntrinsicDim.py\", line 67, in _calc_ph_dim_single\n",
      "    self.run()\n",
      "  File \"C:\\Users\\melko\\AppData\\Local\\Programs\\Python\\Python311\\Lib\\threading.py\", line 975, in run\n",
      "    self._target(*self._args, **self._kwargs)\n",
      "  File \"C:\\Users\\melko\\Documents\\Huawei\\IntrinsicDim.py\", line 67, in _calc_ph_dim_single\n",
      "    self._target(*self._args, **self._kwargs)\n",
      "  File \"C:\\Users\\melko\\Documents\\Huawei\\IntrinsicDim.py\", line 67, in _calc_ph_dim_single\n",
      "    tmp = self._sample_W(W, n)\n",
      "          ^^^^^^^^^^^^^^^^^^^^\n",
      "  File \"C:\\Users\\melko\\Documents\\Huawei\\IntrinsicDim.py\", line 51, in _sample_W\n",
      "    tmp = self._sample_W(W, n)\n",
      "          ^^^^^^^^^^^^^^^^^^^^\n",
      "  File \"C:\\Users\\melko\\Documents\\Huawei\\IntrinsicDim.py\", line 51, in _sample_W\n",
      "    tmp = self._sample_W(W, n)\n",
      "          ^^^^^^^^^^^^^^^^^^^^\n",
      "  File \"C:\\Users\\melko\\Documents\\Huawei\\IntrinsicDim.py\", line 51, in _sample_W\n",
      "    random_indices = np.random.choice(n, size=nSamples, replace=False)\n",
      "                     ^^^^^^^^^^^^^^^^^^^^^^^^^^^^^^^^^^^^^^^^^^^^^^^^^\n",
      "  File \"numpy\\\\random\\\\mtrand.pyx\", line 1001, in numpy.random.mtrand.RandomState.choice\n",
      "    random_indices = np.random.choice(n, size=nSamples, replace=False)\n",
      "                     ^^^^^^^^^^^^^^^^^^^^^^^^^^^^^^^^^^^^^^^^^^^^^^^^^\n",
      "  File \"numpy\\\\random\\\\mtrand.pyx\", line 1001, in numpy.random.mtrand.RandomState.choice\n",
      "    random_indices = np.random.choice(n, size=nSamples, replace=False)\n",
      "                     ^^^^^^^^^^^^^^^^^^^^^^^^^^^^^^^^^^^^^^^^^^^^^^^^^\n",
      "  File \"numpy\\\\random\\\\mtrand.pyx\", line 1001, in numpy.random.mtrand.RandomState.choice\n",
      "ValueError: Cannot take a larger sample than population when 'replace=False'\n",
      "ValueError: Cannot take a larger sample than population when 'replace=False'\n",
      "ValueError: Cannot take a larger sample than population when 'replace=False'\n",
      "gpt_w_3_paraphrase_40_100_output:  46%|██████████████████████████████                                    | 114/250 [00:45<00:44,  3.08it/s]Exception in thread Thread-7915 (_calc_ph_dim_single):\n",
      "Traceback (most recent call last):\n",
      "  File \"C:\\Users\\melko\\AppData\\Local\\Programs\\Python\\Python311\\Lib\\threading.py\", line 1038, in _bootstrap_inner\n",
      "Exception in thread Thread-7916 (_calc_ph_dim_single):\n",
      "Traceback (most recent call last):\n",
      "  File \"C:\\Users\\melko\\AppData\\Local\\Programs\\Python\\Python311\\Lib\\threading.py\", line 1038, in _bootstrap_inner\n",
      "Exception in thread Thread-7917 (_calc_ph_dim_single):\n",
      "Traceback (most recent call last):\n",
      "  File \"C:\\Users\\melko\\AppData\\Local\\Programs\\Python\\Python311\\Lib\\threading.py\", line 1038, in _bootstrap_inner\n",
      "    self.run()\n",
      "  File \"C:\\Users\\melko\\AppData\\Local\\Programs\\Python\\Python311\\Lib\\threading.py\", line 975, in run\n",
      "    self.run()\n",
      "  File \"C:\\Users\\melko\\AppData\\Local\\Programs\\Python\\Python311\\Lib\\threading.py\", line 975, in run\n",
      "    self.run()\n",
      "  File \"C:\\Users\\melko\\AppData\\Local\\Programs\\Python\\Python311\\Lib\\threading.py\", line 975, in run\n",
      "    self._target(*self._args, **self._kwargs)\n",
      "  File \"C:\\Users\\melko\\Documents\\Huawei\\IntrinsicDim.py\", line 67, in _calc_ph_dim_single\n",
      "    self._target(*self._args, **self._kwargs)\n",
      "  File \"C:\\Users\\melko\\Documents\\Huawei\\IntrinsicDim.py\", line 67, in _calc_ph_dim_single\n",
      "    tmp = self._sample_W(W, n)\n",
      "          ^^^^^^^^^^^^^^^^^^^^\n",
      "  File \"C:\\Users\\melko\\Documents\\Huawei\\IntrinsicDim.py\", line 51, in _sample_W\n",
      "    self._target(*self._args, **self._kwargs)\n",
      "  File \"C:\\Users\\melko\\Documents\\Huawei\\IntrinsicDim.py\", line 67, in _calc_ph_dim_single\n",
      "    tmp = self._sample_W(W, n)\n",
      "          ^^^^^^^^^^^^^^^^^^^^\n",
      "  File \"C:\\Users\\melko\\Documents\\Huawei\\IntrinsicDim.py\", line 51, in _sample_W\n",
      "    random_indices = np.random.choice(n, size=nSamples, replace=False)\n",
      "                     ^^^^^^^^^^^^^^^^^^^^^^^^^^^^^^^^^^^^^^^^^^^^^^^^^\n",
      "  File \"numpy\\\\random\\\\mtrand.pyx\", line 1001, in numpy.random.mtrand.RandomState.choice\n",
      "    tmp = self._sample_W(W, n)\n",
      "          ^^^^^^^^^^^^^^^^^^^^\n",
      "  File \"C:\\Users\\melko\\Documents\\Huawei\\IntrinsicDim.py\", line 51, in _sample_W\n",
      "    random_indices = np.random.choice(n, size=nSamples, replace=False)\n",
      "                     ^^^^^^^^^^^^^^^^^^^^^^^^^^^^^^^^^^^^^^^^^^^^^^^^^\n",
      "  File \"numpy\\\\random\\\\mtrand.pyx\", line 1001, in numpy.random.mtrand.RandomState.choice\n",
      "    random_indices = np.random.choice(n, size=nSamples, replace=False)\n",
      "                     ^^^^^^^^^^^^^^^^^^^^^^^^^^^^^^^^^^^^^^^^^^^^^^^^^\n",
      "  File \"numpy\\\\random\\\\mtrand.pyx\", line 1001, in numpy.random.mtrand.RandomState.choice\n",
      "ValueError: Cannot take a larger sample than population when 'replace=False'\n"
     ]
    },
    {
     "name": "stderr",
     "output_type": "stream",
     "text": [
      "ValueError: Cannot take a larger sample than population when 'replace=False'\n",
      "ValueError: Cannot take a larger sample than population when 'replace=False'\n",
      "gpt_w_3_paraphrase_40_100_output:  46%|██████████████████████████████▌                                   | 116/250 [00:46<00:30,  4.33it/s]"
     ]
    },
    {
     "name": "stdout",
     "output_type": "stream",
     "text": [
      "range() arg 3 must not be zero\n"
     ]
    },
    {
     "name": "stderr",
     "output_type": "stream",
     "text": [
      "gpt_w_3_paraphrase_40_100_output:  53%|██████████████████████████████████▊                               | 132/250 [00:52<00:36,  3.26it/s]"
     ]
    },
    {
     "name": "stdout",
     "output_type": "stream",
     "text": [
      "range() arg 3 must not be zero\n"
     ]
    },
    {
     "name": "stderr",
     "output_type": "stream",
     "text": [
      "gpt_w_3_paraphrase_40_100_output:  54%|███████████████████████████████████▉                              | 136/250 [00:54<00:44,  2.57it/s]"
     ]
    },
    {
     "name": "stdout",
     "output_type": "stream",
     "text": [
      "range() arg 3 must not be zero\n"
     ]
    },
    {
     "name": "stderr",
     "output_type": "stream",
     "text": [
      "gpt_w_3_paraphrase_40_100_output:  61%|████████████████████████████████████████▏                         | 152/250 [01:03<00:43,  2.27it/s]"
     ]
    },
    {
     "name": "stdout",
     "output_type": "stream",
     "text": [
      "range() arg 3 must not be zero\n"
     ]
    },
    {
     "name": "stderr",
     "output_type": "stream",
     "text": [
      "gpt_w_3_paraphrase_40_100_output:  64%|█████████████████████████████████████████▉                        | 159/250 [01:06<00:32,  2.83it/s]"
     ]
    },
    {
     "name": "stdout",
     "output_type": "stream",
     "text": [
      "range() arg 3 must not be zero\n"
     ]
    },
    {
     "name": "stderr",
     "output_type": "stream",
     "text": [
      "gpt_w_3_paraphrase_40_100_output:  65%|██████████████████████████████████████████▊                       | 162/250 [01:07<00:21,  4.09it/s]"
     ]
    },
    {
     "name": "stdout",
     "output_type": "stream",
     "text": [
      "range() arg 3 must not be zero\n"
     ]
    },
    {
     "name": "stderr",
     "output_type": "stream",
     "text": [
      "gpt_w_3_paraphrase_40_100_output:  68%|█████████████████████████████████████████████▏                    | 171/250 [01:11<00:28,  2.73it/s]"
     ]
    },
    {
     "name": "stdout",
     "output_type": "stream",
     "text": [
      "range() arg 3 must not be zero\n"
     ]
    },
    {
     "name": "stderr",
     "output_type": "stream",
     "text": [
      "gpt_w_3_paraphrase_40_100_output:  76%|█████████████████████████████████████████████████▉                | 189/250 [01:20<00:26,  2.33it/s]"
     ]
    },
    {
     "name": "stdout",
     "output_type": "stream",
     "text": [
      "range() arg 3 must not be zero\n"
     ]
    },
    {
     "name": "stderr",
     "output_type": "stream",
     "text": [
      "gpt_w_3_paraphrase_40_100_output:  91%|███████████████████████████████████████████████████████████▉      | 227/250 [01:37<00:10,  2.26it/s]"
     ]
    },
    {
     "name": "stdout",
     "output_type": "stream",
     "text": [
      "range() arg 3 must not be zero\n"
     ]
    },
    {
     "name": "stderr",
     "output_type": "stream",
     "text": [
      "gpt_w_3_paraphrase_40_100_output:  95%|██████████████████████████████████████████████████████████████▊   | 238/250 [01:42<00:04,  2.68it/s]"
     ]
    },
    {
     "name": "stdout",
     "output_type": "stream",
     "text": [
      "range() arg 3 must not be zero\n"
     ]
    },
    {
     "name": "stderr",
     "output_type": "stream",
     "text": [
      "gpt_w_3_paraphrase_40_100_output:  97%|███████████████████████████████████████████████████████████████▉  | 242/250 [01:44<00:02,  2.70it/s]"
     ]
    },
    {
     "name": "stdout",
     "output_type": "stream",
     "text": [
      "range() arg 3 must not be zero\n"
     ]
    },
    {
     "name": "stderr",
     "output_type": "stream",
     "text": [
      "gpt_w_3_paraphrase_40_100_output: 100%|██████████████████████████████████████████████████████████████████| 250/250 [01:48<00:00,  2.31it/s]\n"
     ]
    },
    {
     "name": "stdout",
     "output_type": "stream",
     "text": [
      "gpt_w_3_paraphrase_40_100_output: mean = nan, std = nan\n"
     ]
    },
    {
     "name": "stderr",
     "output_type": "stream",
     "text": [
      "gpt_w_3_paraphrase_80_100_input: 100%|███████████████████████████████████████████████████████████████████| 250/250 [02:50<00:00,  1.47it/s]\n"
     ]
    },
    {
     "name": "stdout",
     "output_type": "stream",
     "text": [
      "gpt_w_3_paraphrase_80_100_input: mean = 7.636531354302357, std = 1.2474952483064405\n"
     ]
    },
    {
     "name": "stderr",
     "output_type": "stream",
     "text": [
      "gpt_w_3_paraphrase_80_100_output:  34%|██████████████████████▌                                            | 84/250 [00:37<01:13,  2.25it/s]Exception in thread Thread-9292 (_calc_ph_dim_single):\n",
      "Traceback (most recent call last):\n",
      "  File \"C:\\Users\\melko\\AppData\\Local\\Programs\\Python\\Python311\\Lib\\threading.py\", line 1038, in _bootstrap_inner\n",
      "Exception in thread Thread-9293 (_calc_ph_dim_single):\n",
      "Traceback (most recent call last):\n",
      "  File \"C:\\Users\\melko\\AppData\\Local\\Programs\\Python\\Python311\\Lib\\threading.py\", line 1038, in _bootstrap_inner\n",
      "Exception in thread Thread-9294 (_calc_ph_dim_single):\n",
      "Traceback (most recent call last):\n",
      "  File \"C:\\Users\\melko\\AppData\\Local\\Programs\\Python\\Python311\\Lib\\threading.py\", line 1038, in _bootstrap_inner\n",
      "    self.run()\n",
      "  File \"C:\\Users\\melko\\AppData\\Local\\Programs\\Python\\Python311\\Lib\\threading.py\", line 975, in run\n",
      "    self.run()\n",
      "  File \"C:\\Users\\melko\\AppData\\Local\\Programs\\Python\\Python311\\Lib\\threading.py\", line 975, in run\n",
      "    self._target(*self._args, **self._kwargs)\n",
      "  File \"C:\\Users\\melko\\Documents\\Huawei\\IntrinsicDim.py\", line 67, in _calc_ph_dim_single\n",
      "    self._target(*self._args, **self._kwargs)\n",
      "  File \"C:\\Users\\melko\\Documents\\Huawei\\IntrinsicDim.py\", line 67, in _calc_ph_dim_single\n",
      "    self.run()\n",
      "  File \"C:\\Users\\melko\\AppData\\Local\\Programs\\Python\\Python311\\Lib\\threading.py\", line 975, in run\n",
      "    tmp = self._sample_W(W, n)\n",
      "          ^^^^^^^^^^^^^^^^^^^^\n",
      "  File \"C:\\Users\\melko\\Documents\\Huawei\\IntrinsicDim.py\", line 51, in _sample_W\n",
      "    tmp = self._sample_W(W, n)\n",
      "          ^^^^^^^^^^^^^^^^^^^^\n",
      "  File \"C:\\Users\\melko\\Documents\\Huawei\\IntrinsicDim.py\", line 51, in _sample_W\n",
      "    self._target(*self._args, **self._kwargs)\n",
      "  File \"C:\\Users\\melko\\Documents\\Huawei\\IntrinsicDim.py\", line 67, in _calc_ph_dim_single\n",
      "    random_indices = np.random.choice(n, size=nSamples, replace=False)\n",
      "                     ^^^^^^^^^^^^^^^^^^^^^^^^^^^^^^^^^^^^^^^^^^^^^^^^^\n",
      "  File \"numpy\\\\random\\\\mtrand.pyx\", line 1001, in numpy.random.mtrand.RandomState.choice\n",
      "    random_indices = np.random.choice(n, size=nSamples, replace=False)\n",
      "                     ^^^^^^^^^^^^^^^^^^^^^^^^^^^^^^^^^^^^^^^^^^^^^^^^^\n",
      "  File \"numpy\\\\random\\\\mtrand.pyx\", line 1001, in numpy.random.mtrand.RandomState.choice\n",
      "    tmp = self._sample_W(W, n)\n",
      "          ^^^^^^^^^^^^^^^^^^^^\n",
      "  File \"C:\\Users\\melko\\Documents\\Huawei\\IntrinsicDim.py\", line 51, in _sample_W\n",
      "    random_indices = np.random.choice(n, size=nSamples, replace=False)\n",
      "                     ^^^^^^^^^^^^^^^^^^^^^^^^^^^^^^^^^^^^^^^^^^^^^^^^^\n",
      "  File \"numpy\\\\random\\\\mtrand.pyx\", line 1001, in numpy.random.mtrand.RandomState.choice\n",
      "ValueError: Cannot take a larger sample than population when 'replace=False'\n",
      "ValueError: Cannot take a larger sample than population when 'replace=False'\n",
      "ValueError: Cannot take a larger sample than population when 'replace=False'\n",
      "gpt_w_3_paraphrase_80_100_output:  38%|█████████████████████████▏                                         | 94/250 [00:43<01:53,  1.37it/s]Exception in thread Thread-9322 (_calc_ph_dim_single):\n",
      "Traceback (most recent call last):\n",
      "  File \"C:\\Users\\melko\\AppData\\Local\\Programs\\Python\\Python311\\Lib\\threading.py\", line 1038, in _bootstrap_inner\n",
      "Exception in thread Thread-9323 (_calc_ph_dim_single):\n",
      "Traceback (most recent call last):\n",
      "  File \"C:\\Users\\melko\\AppData\\Local\\Programs\\Python\\Python311\\Lib\\threading.py\", line 1038, in _bootstrap_inner\n",
      "Exception in thread Thread-9324 (_calc_ph_dim_single):\n",
      "Traceback (most recent call last):\n",
      "  File \"C:\\Users\\melko\\AppData\\Local\\Programs\\Python\\Python311\\Lib\\threading.py\", line 1038, in _bootstrap_inner\n",
      "    self.run()\n",
      "  File \"C:\\Users\\melko\\AppData\\Local\\Programs\\Python\\Python311\\Lib\\threading.py\", line 975, in run\n",
      "    self.run()\n",
      "  File \"C:\\Users\\melko\\AppData\\Local\\Programs\\Python\\Python311\\Lib\\threading.py\", line 975, in run\n",
      "    self.run()\n",
      "  File \"C:\\Users\\melko\\AppData\\Local\\Programs\\Python\\Python311\\Lib\\threading.py\", line 975, in run\n",
      "    self._target(*self._args, **self._kwargs)\n",
      "  File \"C:\\Users\\melko\\Documents\\Huawei\\IntrinsicDim.py\", line 67, in _calc_ph_dim_single\n",
      "    self._target(*self._args, **self._kwargs)\n",
      "  File \"C:\\Users\\melko\\Documents\\Huawei\\IntrinsicDim.py\", line 67, in _calc_ph_dim_single\n",
      "    self._target(*self._args, **self._kwargs)\n",
      "  File \"C:\\Users\\melko\\Documents\\Huawei\\IntrinsicDim.py\", line 67, in _calc_ph_dim_single\n",
      "    tmp = self._sample_W(W, n)\n",
      "          ^^^^^^^^^^^^^^^^^^^^\n",
      "  File \"C:\\Users\\melko\\Documents\\Huawei\\IntrinsicDim.py\", line 51, in _sample_W\n",
      "    tmp = self._sample_W(W, n)\n",
      "          ^^^^^^^^^^^^^^^^^^^^\n",
      "  File \"C:\\Users\\melko\\Documents\\Huawei\\IntrinsicDim.py\", line 51, in _sample_W\n",
      "    tmp = self._sample_W(W, n)\n",
      "          ^^^^^^^^^^^^^^^^^^^^\n",
      "  File \"C:\\Users\\melko\\Documents\\Huawei\\IntrinsicDim.py\", line 51, in _sample_W\n",
      "    random_indices = np.random.choice(n, size=nSamples, replace=False)\n",
      "                     ^^^^^^^^^^^^^^^^^^^^^^^^^^^^^^^^^^^^^^^^^^^^^^^^^\n",
      "  File \"numpy\\\\random\\\\mtrand.pyx\", line 1001, in numpy.random.mtrand.RandomState.choice\n",
      "    random_indices = np.random.choice(n, size=nSamples, replace=False)\n",
      "                     ^^^^^^^^^^^^^^^^^^^^^^^^^^^^^^^^^^^^^^^^^^^^^^^^^\n",
      "  File \"numpy\\\\random\\\\mtrand.pyx\", line 1001, in numpy.random.mtrand.RandomState.choice\n",
      "    random_indices = np.random.choice(n, size=nSamples, replace=False)\n",
      "                     ^^^^^^^^^^^^^^^^^^^^^^^^^^^^^^^^^^^^^^^^^^^^^^^^^\n",
      "  File \"numpy\\\\random\\\\mtrand.pyx\", line 1001, in numpy.random.mtrand.RandomState.choice\n",
      "ValueError: Cannot take a larger sample than population when 'replace=False'\n",
      "ValueError: Cannot take a larger sample than population when 'replace=False'\n",
      "ValueError: Cannot take a larger sample than population when 'replace=False'\n",
      "gpt_w_3_paraphrase_80_100_output:  46%|██████████████████████████████                                    | 114/250 [00:52<00:44,  3.09it/s]Exception in thread Thread-9382 (_calc_ph_dim_single):\n",
      "Traceback (most recent call last):\n",
      "  File \"C:\\Users\\melko\\AppData\\Local\\Programs\\Python\\Python311\\Lib\\threading.py\", line 1038, in _bootstrap_inner\n",
      "    self.run()\n",
      "  File \"C:\\Users\\melko\\AppData\\Local\\Programs\\Python\\Python311\\Lib\\threading.py\", line 975, in run\n",
      "Exception in thread Thread-9383 (_calc_ph_dim_single):\n",
      "Traceback (most recent call last):\n",
      "  File \"C:\\Users\\melko\\AppData\\Local\\Programs\\Python\\Python311\\Lib\\threading.py\", line 1038, in _bootstrap_inner\n",
      "Exception in thread Thread-9384 (_calc_ph_dim_single):\n",
      "Traceback (most recent call last):\n",
      "  File \"C:\\Users\\melko\\AppData\\Local\\Programs\\Python\\Python311\\Lib\\threading.py\", line 1038, in _bootstrap_inner\n",
      "    self.run()\n",
      "  File \"C:\\Users\\melko\\AppData\\Local\\Programs\\Python\\Python311\\Lib\\threading.py\", line 975, in run\n",
      "    self._target(*self._args, **self._kwargs)\n",
      "  File \"C:\\Users\\melko\\Documents\\Huawei\\IntrinsicDim.py\", line 67, in _calc_ph_dim_single\n",
      "    self.run()\n",
      "  File \"C:\\Users\\melko\\AppData\\Local\\Programs\\Python\\Python311\\Lib\\threading.py\", line 975, in run\n",
      "    tmp = self._sample_W(W, n)\n",
      "          ^^^^^^^^^^^^^^^^^^^^\n",
      "  File \"C:\\Users\\melko\\Documents\\Huawei\\IntrinsicDim.py\", line 51, in _sample_W\n",
      "    self._target(*self._args, **self._kwargs)\n",
      "  File \"C:\\Users\\melko\\Documents\\Huawei\\IntrinsicDim.py\", line 67, in _calc_ph_dim_single\n",
      "    self._target(*self._args, **self._kwargs)\n",
      "  File \"C:\\Users\\melko\\Documents\\Huawei\\IntrinsicDim.py\", line 67, in _calc_ph_dim_single\n",
      "    random_indices = np.random.choice(n, size=nSamples, replace=False)\n",
      "                     ^^^^^^^^^^^^^^^^^^^^^^^^^^^^^^^^^^^^^^^^^^^^^^^^^\n",
      "  File \"numpy\\\\random\\\\mtrand.pyx\", line 1001, in numpy.random.mtrand.RandomState.choice\n",
      "    tmp = self._sample_W(W, n)\n",
      "          ^^^^^^^^^^^^^^^^^^^^\n",
      "  File \"C:\\Users\\melko\\Documents\\Huawei\\IntrinsicDim.py\", line 51, in _sample_W\n",
      "    tmp = self._sample_W(W, n)\n",
      "          ^^^^^^^^^^^^^^^^^^^^\n",
      "  File \"C:\\Users\\melko\\Documents\\Huawei\\IntrinsicDim.py\", line 51, in _sample_W\n",
      "    random_indices = np.random.choice(n, size=nSamples, replace=False)\n",
      "                     ^^^^^^^^^^^^^^^^^^^^^^^^^^^^^^^^^^^^^^^^^^^^^^^^^\n",
      "  File \"numpy\\\\random\\\\mtrand.pyx\", line 1001, in numpy.random.mtrand.RandomState.choice\n",
      "    random_indices = np.random.choice(n, size=nSamples, replace=False)\n",
      "                     ^^^^^^^^^^^^^^^^^^^^^^^^^^^^^^^^^^^^^^^^^^^^^^^^^\n",
      "  File \"numpy\\\\random\\\\mtrand.pyx\", line 1001, in numpy.random.mtrand.RandomState.choice\n",
      "ValueError: Cannot take a larger sample than population when 'replace=False'\n",
      "ValueError: Cannot take a larger sample than population when 'replace=False'\n"
     ]
    },
    {
     "name": "stderr",
     "output_type": "stream",
     "text": [
      "ValueError: Cannot take a larger sample than population when 'replace=False'\n",
      "gpt_w_3_paraphrase_80_100_output:  53%|██████████████████████████████████▊                               | 132/250 [01:00<00:38,  3.09it/s]"
     ]
    },
    {
     "name": "stdout",
     "output_type": "stream",
     "text": [
      "range() arg 3 must not be zero\n"
     ]
    },
    {
     "name": "stderr",
     "output_type": "stream",
     "text": [
      "gpt_w_3_paraphrase_80_100_output:  83%|██████████████████████████████████████████████████████▉           | 208/250 [01:36<00:14,  2.88it/s]"
     ]
    },
    {
     "name": "stdout",
     "output_type": "stream",
     "text": [
      "range() arg 3 must not be zero\n"
     ]
    },
    {
     "name": "stderr",
     "output_type": "stream",
     "text": [
      "gpt_w_3_paraphrase_80_100_output: 100%|██████████████████████████████████████████████████████████████████| 250/250 [01:54<00:00,  2.19it/s]\n"
     ]
    },
    {
     "name": "stdout",
     "output_type": "stream",
     "text": [
      "gpt_w_3_paraphrase_80_100_output: mean = 7.501491237410064, std = 1.9603303641652485\n"
     ]
    },
    {
     "name": "stderr",
     "output_type": "stream",
     "text": [
      "gpt_r_3_paraphrase_40_40_input: 100%|████████████████████████████████████████████████████████████████████| 250/250 [03:09<00:00,  1.32it/s]\n"
     ]
    },
    {
     "name": "stdout",
     "output_type": "stream",
     "text": [
      "gpt_r_3_paraphrase_40_40_input: mean = 7.640281254207586, std = 0.8868345447990534\n"
     ]
    },
    {
     "name": "stderr",
     "output_type": "stream",
     "text": [
      "gpt_r_3_paraphrase_40_40_output: 100%|███████████████████████████████████████████████████████████████████| 250/250 [02:22<00:00,  1.76it/s]\n"
     ]
    },
    {
     "name": "stdout",
     "output_type": "stream",
     "text": [
      "gpt_r_3_paraphrase_40_40_output: mean = 7.336216495307494, std = 1.0377623742395488\n"
     ]
    },
    {
     "name": "stderr",
     "output_type": "stream",
     "text": [
      "gpt_r_3_paraphrase_40_100_input: 100%|███████████████████████████████████████████████████████████████████| 250/250 [03:17<00:00,  1.27it/s]\n"
     ]
    },
    {
     "name": "stdout",
     "output_type": "stream",
     "text": [
      "gpt_r_3_paraphrase_40_100_input: mean = 7.645288644189524, std = 0.8996865839948587\n"
     ]
    },
    {
     "name": "stderr",
     "output_type": "stream",
     "text": [
      "gpt_r_3_paraphrase_40_100_output: 100%|██████████████████████████████████████████████████████████████████| 250/250 [02:35<00:00,  1.61it/s]\n"
     ]
    },
    {
     "name": "stdout",
     "output_type": "stream",
     "text": [
      "gpt_r_3_paraphrase_40_100_output: mean = 7.327305180877136, std = 0.9476878996936813\n"
     ]
    },
    {
     "name": "stderr",
     "output_type": "stream",
     "text": [
      "gpt_r_3_paraphrase_80_100_input: 100%|███████████████████████████████████████████████████████████████████| 250/250 [03:39<00:00,  1.14it/s]\n"
     ]
    },
    {
     "name": "stdout",
     "output_type": "stream",
     "text": [
      "gpt_r_3_paraphrase_80_100_input: mean = 7.579233788321961, std = 0.8320184868895738\n"
     ]
    },
    {
     "name": "stderr",
     "output_type": "stream",
     "text": [
      "gpt_r_3_paraphrase_80_100_output: 100%|██████████████████████████████████████████████████████████████████| 250/250 [02:57<00:00,  1.41it/s]"
     ]
    },
    {
     "name": "stdout",
     "output_type": "stream",
     "text": [
      "gpt_r_3_paraphrase_80_100_output: mean = 7.431388434692017, std = 1.0210299246983128\n"
     ]
    },
    {
     "name": "stderr",
     "output_type": "stream",
     "text": [
      "\n"
     ]
    }
   ],
   "source": [
    "phds = {}\n",
    "for key in text_sets.keys():\n",
    "    phds[key] = []\n",
    "    PHD_solver = PHD(metric='euclidean', n_points=3)\n",
    "    for text in tqdm(text_sets[key], desc=key):\n",
    "        try:\n",
    "            phds[key].append(get_phd_single(text, PHD_solver))\n",
    "        except Exception as e:\n",
    "            print(e)\n",
    "            phds[key].append(0)\n",
    "    print(f\"{key}: mean = {np.mean(phds[key])}, std = {np.std(phds[key])}\")"
   ]
  },
  {
   "cell_type": "code",
   "execution_count": 74,
   "id": "b3babae4",
   "metadata": {},
   "outputs": [
    {
     "data": {
      "image/png": "[encoded data removed]",
      "text/plain": [
       "<Figure size 1800x1200 with 6 Axes>"
      ]
     },
     "metadata": {},
     "output_type": "display_data"
    }
   ],
   "source": [
    "fig, ax = plt.subplots(2, 3, figsize=(18, 12))\n",
    "\n",
    "for i, name in enumerate([\n",
    "    'gpt_w_3_paraphrase_40_40',\n",
    "    'gpt_r_3_paraphrase_40_100',\n",
    "    'gpt_w_3_paraphrase_80_100',\n",
    "    'gpt_r_3_paraphrase_40_40',\n",
    "    'gpt_w_3_paraphrase_40_100',\n",
    "    'gpt_r_3_paraphrase_80_100']):\n",
    "    try:\n",
    "        ax[i % 2, i % 3].set_title(name)\n",
    "        ax[i % 2, i % 3].hist(phds[f'{name}_input'], bins=100, alpha=0.4, label=\"input\")\n",
    "        ax[i % 2, i % 3].hist(phds[f'{name}_output'], bins=100, alpha=0.4, label=\"output\")\n",
    "        ax[i % 2, i % 3].legend()\n",
    "        \n",
    "    except:\n",
    "        print(phds[f'{name}_input'])\n",
    "        print(phds[f'{name}_output'])\n",
    "\n",
    "plt.show()"
   ]
  },
  {
   "cell_type": "code",
   "execution_count": null,
   "id": "d0bbe90b",
   "metadata": {},
   "outputs": [],
   "source": []
  }
 ],
 "metadata": {
  "kernelspec": {
   "display_name": "Python 3 (ipykernel)",
   "language": "python",
   "name": "python3"
  },
  "language_info": {
   "codemirror_mode": {
    "name": "ipython",
    "version": 3
   },
   "file_extension": ".py",
   "mimetype": "text/x-python",
   "name": "python",
   "nbconvert_exporter": "python",
   "pygments_lexer": "ipython3",
   "version": "3.11.1"
  }
 },
 "nbformat": 4,
 "nbformat_minor": 5
}
