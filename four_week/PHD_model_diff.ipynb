{
 "cells": [
  {
   "cell_type": "code",
   "execution_count": 1,
   "id": "0378f54f-f7e2-4846-b4ea-0464b8e40837",
   "metadata": {},
   "outputs": [
    {
     "name": "stdout",
     "output_type": "stream",
     "text": [
      "Текущая директория: /home/pedashenkovl/PHD/TopAnDat/four_week\n"
     ]
    }
   ],
   "source": [
    "import os\n",
    "print(\"Текущая директория:\", os.getcwd())"
   ]
  },
  {
   "cell_type": "code",
   "execution_count": null,
   "id": "bb94d3d5-2d3a-4b15-84b2-fd3bb148ec2c",
   "metadata": {},
   "outputs": [
    {
     "name": "stdout",
     "output_type": "stream",
     "text": [
      "Загружено объектов: 610767\n",
      "Пример: {'id': 'f05034ca-d1da-445d-a6a2-5869ade0dfc3', 'source': 'm4gt', 'sub_source': 'reddit', 'lang': 'en', 'model': 'llama3-8b', 'label': 1, 'text': \"Hitler's plans for the succession and power structure after his death are shrouded in mystery, as he never explicitly wrote down his intentions. However, it is known that he designated several potential successors, including Heinrich Himmler, Hermann Göring, and Joseph Goebbels, each with their own strengths and weaknesses. \\n\\nIn the final days of his life, Hitler grew increasingly paranoid and isolated, leading to rumors of a civil war within the Nazi Party. He became convinced that the Party was plotting against him, and his trusted advisors, including Goering and Himmler, were secretly vying for power. \\n\\nTo counter this perceived threat, Hitler reportedly planned to appoint a successor, most likely Himmler, in a 'Fuhrer-proof' mechanism. This would have granted Himmler absolute power over the Party and state, rendering the concept of democratic succession irrelevant. Hitler also envisioned a hierarchical, hereditary power structure, with his loyal followers and their families holding key positions within the Party and government. \\n\\nMoreover, Hitler's plans likely included implementing a system of informal networks and patronage, where senior officials would be incentivized to support his designated successor. This would have allowed him to exercise control from beyond the grave, ensuring that his vision for the thousand-year Reich remained intact. In essence, Hitler aimed to create a personalized, authoritarian regime where power would remain concentrated in the hands of the 'Fuhrer's' progeny, thereby guaranteeing the continuation of his legacy.\"}\n"
     ]
    }
   ],
   "source": [
    "import jsonlines\n",
    "\n",
    "file_path = \"../data/en_train.jsonl\"  # путь из four_week/\n",
    "\n",
    "texts = []\n",
    "with jsonlines.open(file_path, \"r\") as reader:\n",
    "    for obj in reader:\n",
    "        texts.append(obj)\n",
    "\n",
    "print(f\"Загружено объектов: {len(texts)}\")\n",
    "print(\"Пример:\", texts[0])"
   ]
  },
  {
   "cell_type": "code",
   "execution_count": 3,
   "id": "05797afc-7884-4222-82e8-9122a8cdf62f",
   "metadata": {},
   "outputs": [
    {
     "name": "stdout",
     "output_type": "stream",
     "text": [
      "dict_keys(['id', 'source', 'sub_source', 'lang', 'model', 'label', 'text'])\n"
     ]
    }
   ],
   "source": [
    "print(texts[0].keys())"
   ]
  },
  {
   "cell_type": "code",
   "execution_count": 10,
   "id": "312e13c7-37aa-4557-8185-8df22bfc1e13",
   "metadata": {},
   "outputs": [],
   "source": [
    "import torch\n",
    "import pandas as pd\n",
    "import numpy as np\n",
    "import matplotlib.pyplot as plt\n",
    "import seaborn as sns\n",
    "from tqdm import tqdm\n",
    "from GPTID.IntrinsicDim import PHD\n",
    "from phd_qwen_universal import load_qwen_model, get_phd_single_loop, get_phd"
   ]
  },
  {
   "cell_type": "code",
   "execution_count": 4,
   "id": "e183cba9-5e87-49c1-9329-0c26964828cf",
   "metadata": {},
   "outputs": [
    {
     "name": "stdout",
     "output_type": "stream",
     "text": [
      "Доступно GPU: 7\n",
      "\n",
      "GPU 0: Quadro RTX 4000\n",
      "  Память: 411MB / 8192MB\n",
      "  Загрузка ядра: 0%\n",
      "  Загрузка памяти: 0%\n",
      "\n",
      "GPU 1: NVIDIA RTX A4000\n",
      "  Память: 1237MB / 16376MB\n",
      "  Загрузка ядра: 0%\n",
      "  Загрузка памяти: 0%\n",
      "\n",
      "GPU 2: NVIDIA RTX A4000\n",
      "  Память: 7203MB / 16376MB\n",
      "  Загрузка ядра: 0%\n",
      "  Загрузка памяти: 0%\n",
      "\n",
      "GPU 3: Quadro RTX 4000\n",
      "  Память: 407MB / 8192MB\n",
      "  Загрузка ядра: 0%\n",
      "  Загрузка памяти: 0%\n",
      "\n",
      "GPU 4: Quadro RTX 4000\n",
      "  Память: 407MB / 8192MB\n",
      "  Загрузка ядра: 0%\n",
      "  Загрузка памяти: 0%\n",
      "\n",
      "GPU 5: Quadro RTX 4000\n",
      "  Память: 7311MB / 8192MB\n",
      "  Загрузка ядра: 0%\n",
      "  Загрузка памяти: 0%\n",
      "\n",
      "GPU 6: Quadro RTX 4000\n",
      "  Память: 7479MB / 8192MB\n",
      "  Загрузка ядра: 0%\n",
      "  Загрузка памяти: 0%\n"
     ]
    }
   ],
   "source": [
    "import pynvml\n",
    "\n",
    "pynvml.nvmlInit()\n",
    "gpu_count = pynvml.nvmlDeviceGetCount()\n",
    "print(f\"Доступно GPU: {gpu_count}\")\n",
    "\n",
    "for i in range(gpu_count):\n",
    "    handle = pynvml.nvmlDeviceGetHandleByIndex(i)\n",
    "    name = pynvml.nvmlDeviceGetName(handle)\n",
    "    mem_info = pynvml.nvmlDeviceGetMemoryInfo(handle)\n",
    "    util = pynvml.nvmlDeviceGetUtilizationRates(handle)\n",
    "    \n",
    "    print(f\"\\nGPU {i}: {name}\")\n",
    "    print(f\"  Память: {mem_info.used / 1024**2:.0f}MB / {mem_info.total / 1024**2:.0f}MB\")\n",
    "    print(f\"  Загрузка ядра: {util.gpu}%\")\n",
    "    print(f\"  Загрузка памяти: {util.memory}%\")\n",
    "\n",
    "pynvml.nvmlShutdown()"
   ]
  },
  {
   "cell_type": "code",
   "execution_count": 6,
   "id": "21bd06e5-04c5-47a9-bdfd-410c89bb4c00",
   "metadata": {},
   "outputs": [],
   "source": [
    "tokenizer, model = load_qwen_model(\"Qwen/Qwen1.5-0.5B\", device=\"cuda:0\")"
   ]
  },
  {
   "cell_type": "code",
   "execution_count": 7,
   "id": "9ffd735b-fe16-4f9f-8a16-a04a897798ce",
   "metadata": {},
   "outputs": [
    {
     "name": "stdout",
     "output_type": "stream",
     "text": [
      "Всего LLM-текстов: 381845\n",
      "Пример объекта:\n",
      "{'id': 'f05034ca-d1da-445d-a6a2-5869ade0dfc3', 'source': 'm4gt', 'sub_source': 'reddit', 'lang': 'en', 'model': 'llama3-8b', 'label': 1, 'text': \"Hitler's plans for the succession and power structure after his death are shrouded in mystery, as he never explicitly wrote down his intentions. However, it is known that he designated several potential successors, including Heinrich Himmler, Hermann Göring, and Joseph Goebbels, each with their own strengths and weaknesses. \\n\\nIn the final days of his life, Hitler grew increasingly paranoid and isolated, leading to rumors of a civil war within the Nazi Party. He became convinced that the Party was plotting against him, and his trusted advisors, including Goering and Himmler, were secretly vying for power. \\n\\nTo counter this perceived threat, Hitler reportedly planned to appoint a successor, most likely Himmler, in a 'Fuhrer-proof' mechanism. This would have granted Himmler absolute power over the Party and state, rendering the concept of democratic succession irrelevant. Hitler also envisioned a hierarchical, hereditary power structure, with his loyal followers and their families holding key positions within the Party and government. \\n\\nMoreover, Hitler's plans likely included implementing a system of informal networks and patronage, where senior officials would be incentivized to support his designated successor. This would have allowed him to exercise control from beyond the grave, ensuring that his vision for the thousand-year Reich remained intact. In essence, Hitler aimed to create a personalized, authoritarian regime where power would remain concentrated in the hands of the 'Fuhrer's' progeny, thereby guaranteeing the continuation of his legacy.\"}\n"
     ]
    }
   ],
   "source": [
    "llm_data = [x for x in texts if x.get('label') == 1]\n",
    "\n",
    "print(f\"Всего LLM-текстов: {len(llm_data)}\")\n",
    "print(\"Пример объекта:\")\n",
    "print(llm_data[0])"
   ]
  },
  {
   "cell_type": "code",
   "execution_count": 8,
   "id": "0b76a653-72dd-42b4-a9e2-a0da63747182",
   "metadata": {},
   "outputs": [],
   "source": [
    "subset = []\n",
    "for sample in texts:\n",
    "    if sample.get(\"label\") == 1 and len(tokenizer.encode(sample[\"text\"], truncation=False)) > 650:\n",
    "        subset.append(sample)\n",
    "        if len(subset)>= 300:\n",
    "            break"
   ]
  },
  {
   "cell_type": "code",
   "execution_count": 9,
   "id": "3b832bdd-c7ed-49fb-8b4e-dfece3b7a7e2",
   "metadata": {},
   "outputs": [
    {
     "name": "stderr",
     "output_type": "stream",
     "text": [
      "100%|█████████████████████████████████████████████████████████████████████████████████████| 300/300 [1:16:36<00:00, 15.32s/it]\n"
     ]
    }
   ],
   "source": [
    "df_subset = pd.DataFrame(subset)\n",
    "phd_values = get_phd(df_subset, tokenizer, model, key=\"text\", n_tries=10, max_length=512)\n",
    "\n",
    "df_subset[\"phd_qwen_0.5B\"] = phd_values"
   ]
  },
  {
   "cell_type": "code",
   "execution_count": 13,
   "id": "eaad19ce-bfc3-45bf-a862-5aefd0995e29",
   "metadata": {},
   "outputs": [],
   "source": [
    "df_subset.to_csv(\"phd_llm_subset_qwen05.csv\", index=False)"
   ]
  },
  {
   "cell_type": "markdown",
   "id": "72be0153-e490-418c-8297-60c5e4e81090",
   "metadata": {},
   "source": [
    "Теперь сделаем для `Qwen1.5-1.8B`"
   ]
  },
  {
   "cell_type": "code",
   "execution_count": 14,
   "id": "b79d652c-52a4-45be-bf38-ac5c95e476e2",
   "metadata": {},
   "outputs": [
    {
     "data": {
      "application/vnd.jupyter.widget-view+json": {
       "model_id": "8098d8258c41417fa63297f306a25abb",
       "version_major": 2,
       "version_minor": 0
      },
      "text/plain": [
       "tokenizer_config.json: 0.00B [00:00, ?B/s]"
      ]
     },
     "metadata": {},
     "output_type": "display_data"
    },
    {
     "data": {
      "application/vnd.jupyter.widget-view+json": {
       "model_id": "bca243d85f4d40b5b44258fa1504603e",
       "version_major": 2,
       "version_minor": 0
      },
      "text/plain": [
       "vocab.json: 0.00B [00:00, ?B/s]"
      ]
     },
     "metadata": {},
     "output_type": "display_data"
    },
    {
     "data": {
      "application/vnd.jupyter.widget-view+json": {
       "model_id": "819e40c712d44a0884416e63728b7eb0",
       "version_major": 2,
       "version_minor": 0
      },
      "text/plain": [
       "merges.txt: 0.00B [00:00, ?B/s]"
      ]
     },
     "metadata": {},
     "output_type": "display_data"
    },
    {
     "data": {
      "application/vnd.jupyter.widget-view+json": {
       "model_id": "017bacea763f410ea76b5270f39627f0",
       "version_major": 2,
       "version_minor": 0
      },
      "text/plain": [
       "tokenizer.json: 0.00B [00:00, ?B/s]"
      ]
     },
     "metadata": {},
     "output_type": "display_data"
    },
    {
     "data": {
      "application/vnd.jupyter.widget-view+json": {
       "model_id": "71667b3d826949448802477926b84d19",
       "version_major": 2,
       "version_minor": 0
      },
      "text/plain": [
       "config.json:   0%|          | 0.00/662 [00:00<?, ?B/s]"
      ]
     },
     "metadata": {},
     "output_type": "display_data"
    },
    {
     "data": {
      "application/vnd.jupyter.widget-view+json": {
       "model_id": "02b13f3862604d3f94b8185037a762a2",
       "version_major": 2,
       "version_minor": 0
      },
      "text/plain": [
       "model.safetensors:   0%|          | 0.00/3.67G [00:00<?, ?B/s]"
      ]
     },
     "metadata": {},
     "output_type": "display_data"
    }
   ],
   "source": [
    "tokenizer, model = load_qwen_model(\"Qwen/Qwen1.5-1.8B\", device=\"cuda:4\")"
   ]
  },
  {
   "cell_type": "code",
   "execution_count": 15,
   "id": "cc043fe2-fecc-49e7-84b6-caebe1be708d",
   "metadata": {},
   "outputs": [
    {
     "name": "stderr",
     "output_type": "stream",
     "text": [
      "100%|█████████████████████████████████████████████████████████████████████████████████████| 300/300 [1:44:44<00:00, 20.95s/it]\n"
     ]
    }
   ],
   "source": [
    "phd_values_1_8B = get_phd(df_subset, tokenizer, model, key=\"text\", n_tries=7, max_length=512)\n",
    "df_subset[\"phd_qwen_1.8B\"] = phd_values_1_8B"
   ]
  },
  {
   "cell_type": "code",
   "execution_count": 16,
   "id": "57a74a61-d358-4596-9c65-fdea3b24663a",
   "metadata": {},
   "outputs": [],
   "source": [
    "df_subset.to_csv(\"phd_llm_subset_qwen1_8B_and_05.csv\", index=False)"
   ]
  },
  {
   "cell_type": "code",
   "execution_count": 4,
   "id": "67d13296-5d71-4701-a33e-fe2c9adc5441",
   "metadata": {},
   "outputs": [
    {
     "data": {
      "text/html": [
       "<div>\n",
       "<style scoped>\n",
       "    .dataframe tbody tr th:only-of-type {\n",
       "        vertical-align: middle;\n",
       "    }\n",
       "\n",
       "    .dataframe tbody tr th {\n",
       "        vertical-align: top;\n",
       "    }\n",
       "\n",
       "    .dataframe thead th {\n",
       "        text-align: right;\n",
       "    }\n",
       "</style>\n",
       "<table border=\"1\" class=\"dataframe\">\n",
       "  <thead>\n",
       "    <tr style=\"text-align: right;\">\n",
       "      <th></th>\n",
       "      <th>id</th>\n",
       "      <th>source</th>\n",
       "      <th>sub_source</th>\n",
       "      <th>lang</th>\n",
       "      <th>model</th>\n",
       "      <th>label</th>\n",
       "      <th>text</th>\n",
       "      <th>phd_qwen_0.5B</th>\n",
       "      <th>phd_qwen_1.8B</th>\n",
       "    </tr>\n",
       "  </thead>\n",
       "  <tbody>\n",
       "    <tr>\n",
       "      <th>0</th>\n",
       "      <td>51185fe4-6e9e-4348-a403-3ae217fde27e</td>\n",
       "      <td>mage</td>\n",
       "      <td>wp</td>\n",
       "      <td>en</td>\n",
       "      <td>GLM130B</td>\n",
       "      <td>1</td>\n",
       "      <td>It seems that I have a problem. I wish that I ...</td>\n",
       "      <td>5.328558</td>\n",
       "      <td>5.916602</td>\n",
       "    </tr>\n",
       "    <tr>\n",
       "      <th>1</th>\n",
       "      <td>411a31be-db85-4605-bb1f-9184b3edfc37</td>\n",
       "      <td>mage</td>\n",
       "      <td>roct</td>\n",
       "      <td>en</td>\n",
       "      <td>65B</td>\n",
       "      <td>1</td>\n",
       "      <td>Ferny always wanted to travel to an isolated i...</td>\n",
       "      <td>5.207309</td>\n",
       "      <td>4.929392</td>\n",
       "    </tr>\n",
       "    <tr>\n",
       "      <th>2</th>\n",
       "      <td>7c2f177d-9f6c-419f-9b03-0de11dd0f2ef</td>\n",
       "      <td>m4gt</td>\n",
       "      <td>wikihow</td>\n",
       "      <td>en</td>\n",
       "      <td>gpt4</td>\n",
       "      <td>1</td>\n",
       "      <td>Making sidewalk chalk with cornstarch is a fun...</td>\n",
       "      <td>5.997705</td>\n",
       "      <td>6.245765</td>\n",
       "    </tr>\n",
       "    <tr>\n",
       "      <th>3</th>\n",
       "      <td>e503bc6d-1d73-4bf1-85f3-0772da03c05d</td>\n",
       "      <td>mage</td>\n",
       "      <td>wp</td>\n",
       "      <td>en</td>\n",
       "      <td>opt_350m</td>\n",
       "      <td>1</td>\n",
       "      <td>I ducked into the living room, keeping my brea...</td>\n",
       "      <td>9.431446</td>\n",
       "      <td>10.154536</td>\n",
       "    </tr>\n",
       "    <tr>\n",
       "      <th>4</th>\n",
       "      <td>ae1db038-66ed-4931-9562-74de13148b0b</td>\n",
       "      <td>mage</td>\n",
       "      <td>xsum</td>\n",
       "      <td>en</td>\n",
       "      <td>7B</td>\n",
       "      <td>1</td>\n",
       "      <td>The force said paedophile hunter activities ca...</td>\n",
       "      <td>7.969523</td>\n",
       "      <td>8.333525</td>\n",
       "    </tr>\n",
       "  </tbody>\n",
       "</table>\n",
       "</div>"
      ],
      "text/plain": [
       "                                     id source sub_source lang     model  \\\n",
       "0  51185fe4-6e9e-4348-a403-3ae217fde27e   mage         wp   en   GLM130B   \n",
       "1  411a31be-db85-4605-bb1f-9184b3edfc37   mage       roct   en       65B   \n",
       "2  7c2f177d-9f6c-419f-9b03-0de11dd0f2ef   m4gt    wikihow   en      gpt4   \n",
       "3  e503bc6d-1d73-4bf1-85f3-0772da03c05d   mage         wp   en  opt_350m   \n",
       "4  ae1db038-66ed-4931-9562-74de13148b0b   mage       xsum   en        7B   \n",
       "\n",
       "   label                                               text  phd_qwen_0.5B  \\\n",
       "0      1  It seems that I have a problem. I wish that I ...       5.328558   \n",
       "1      1  Ferny always wanted to travel to an isolated i...       5.207309   \n",
       "2      1  Making sidewalk chalk with cornstarch is a fun...       5.997705   \n",
       "3      1  I ducked into the living room, keeping my brea...       9.431446   \n",
       "4      1  The force said paedophile hunter activities ca...       7.969523   \n",
       "\n",
       "   phd_qwen_1.8B  \n",
       "0       5.916602  \n",
       "1       4.929392  \n",
       "2       6.245765  \n",
       "3      10.154536  \n",
       "4       8.333525  "
      ]
     },
     "execution_count": 4,
     "metadata": {},
     "output_type": "execute_result"
    }
   ],
   "source": [
    "df_subset = pd.read_csv(\"phd_llm_subset_qwen1_8B_and_05.csv\")\n",
    "df_subset.head()"
   ]
  },
  {
   "cell_type": "code",
   "execution_count": 5,
   "id": "12788957-179e-4e29-be88-f97d31361670",
   "metadata": {},
   "outputs": [
    {
     "name": "stdout",
     "output_type": "stream",
     "text": [
      "Requirement already satisfied: bitsandbytes in /home/pedashenkovl/PHD/venv/lib/python3.10/site-packages (0.46.1)\n",
      "Requirement already satisfied: torch<3,>=2.2 in /home/pedashenkovl/PHD/venv/lib/python3.10/site-packages (from bitsandbytes) (2.7.1)\n",
      "Requirement already satisfied: numpy>=1.17 in /home/pedashenkovl/PHD/venv/lib/python3.10/site-packages (from bitsandbytes) (2.2.6)\n",
      "Requirement already satisfied: filelock in /home/pedashenkovl/PHD/venv/lib/python3.10/site-packages (from torch<3,>=2.2->bitsandbytes) (3.18.0)\n",
      "Requirement already satisfied: typing-extensions>=4.10.0 in /home/pedashenkovl/PHD/venv/lib/python3.10/site-packages (from torch<3,>=2.2->bitsandbytes) (4.14.1)\n",
      "Requirement already satisfied: sympy>=1.13.3 in /home/pedashenkovl/PHD/venv/lib/python3.10/site-packages (from torch<3,>=2.2->bitsandbytes) (1.14.0)\n",
      "Requirement already satisfied: networkx in /home/pedashenkovl/PHD/venv/lib/python3.10/site-packages (from torch<3,>=2.2->bitsandbytes) (3.4.2)\n",
      "Requirement already satisfied: jinja2 in /home/pedashenkovl/PHD/venv/lib/python3.10/site-packages (from torch<3,>=2.2->bitsandbytes) (3.1.6)\n",
      "Requirement already satisfied: fsspec in /home/pedashenkovl/PHD/venv/lib/python3.10/site-packages (from torch<3,>=2.2->bitsandbytes) (2025.7.0)\n",
      "Requirement already satisfied: nvidia-cuda-nvrtc-cu12==12.6.77 in /home/pedashenkovl/PHD/venv/lib/python3.10/site-packages (from torch<3,>=2.2->bitsandbytes) (12.6.77)\n",
      "Requirement already satisfied: nvidia-cuda-runtime-cu12==12.6.77 in /home/pedashenkovl/PHD/venv/lib/python3.10/site-packages (from torch<3,>=2.2->bitsandbytes) (12.6.77)\n",
      "Requirement already satisfied: nvidia-cuda-cupti-cu12==12.6.80 in /home/pedashenkovl/PHD/venv/lib/python3.10/site-packages (from torch<3,>=2.2->bitsandbytes) (12.6.80)\n",
      "Requirement already satisfied: nvidia-cudnn-cu12==9.5.1.17 in /home/pedashenkovl/PHD/venv/lib/python3.10/site-packages (from torch<3,>=2.2->bitsandbytes) (9.5.1.17)\n",
      "Requirement already satisfied: nvidia-cublas-cu12==12.6.4.1 in /home/pedashenkovl/PHD/venv/lib/python3.10/site-packages (from torch<3,>=2.2->bitsandbytes) (12.6.4.1)\n",
      "Requirement already satisfied: nvidia-cufft-cu12==11.3.0.4 in /home/pedashenkovl/PHD/venv/lib/python3.10/site-packages (from torch<3,>=2.2->bitsandbytes) (11.3.0.4)\n",
      "Requirement already satisfied: nvidia-curand-cu12==10.3.7.77 in /home/pedashenkovl/PHD/venv/lib/python3.10/site-packages (from torch<3,>=2.2->bitsandbytes) (10.3.7.77)\n",
      "Requirement already satisfied: nvidia-cusolver-cu12==11.7.1.2 in /home/pedashenkovl/PHD/venv/lib/python3.10/site-packages (from torch<3,>=2.2->bitsandbytes) (11.7.1.2)\n",
      "Requirement already satisfied: nvidia-cusparse-cu12==12.5.4.2 in /home/pedashenkovl/PHD/venv/lib/python3.10/site-packages (from torch<3,>=2.2->bitsandbytes) (12.5.4.2)\n",
      "Requirement already satisfied: nvidia-cusparselt-cu12==0.6.3 in /home/pedashenkovl/PHD/venv/lib/python3.10/site-packages (from torch<3,>=2.2->bitsandbytes) (0.6.3)\n",
      "Requirement already satisfied: nvidia-nccl-cu12==2.26.2 in /home/pedashenkovl/PHD/venv/lib/python3.10/site-packages (from torch<3,>=2.2->bitsandbytes) (2.26.2)\n",
      "Requirement already satisfied: nvidia-nvtx-cu12==12.6.77 in /home/pedashenkovl/PHD/venv/lib/python3.10/site-packages (from torch<3,>=2.2->bitsandbytes) (12.6.77)\n",
      "Requirement already satisfied: nvidia-nvjitlink-cu12==12.6.85 in /home/pedashenkovl/PHD/venv/lib/python3.10/site-packages (from torch<3,>=2.2->bitsandbytes) (12.6.85)\n",
      "Requirement already satisfied: nvidia-cufile-cu12==1.11.1.6 in /home/pedashenkovl/PHD/venv/lib/python3.10/site-packages (from torch<3,>=2.2->bitsandbytes) (1.11.1.6)\n",
      "Requirement already satisfied: triton==3.3.1 in /home/pedashenkovl/PHD/venv/lib/python3.10/site-packages (from torch<3,>=2.2->bitsandbytes) (3.3.1)\n",
      "Requirement already satisfied: setuptools>=40.8.0 in /home/pedashenkovl/PHD/venv/lib/python3.10/site-packages (from triton==3.3.1->torch<3,>=2.2->bitsandbytes) (59.6.0)\n",
      "Requirement already satisfied: mpmath<1.4,>=1.1.0 in /home/pedashenkovl/PHD/venv/lib/python3.10/site-packages (from sympy>=1.13.3->torch<3,>=2.2->bitsandbytes) (1.3.0)\n",
      "Requirement already satisfied: MarkupSafe>=2.0 in /home/pedashenkovl/PHD/venv/lib/python3.10/site-packages (from jinja2->torch<3,>=2.2->bitsandbytes) (3.0.2)\n"
     ]
    }
   ],
   "source": [
    "!pip install -U bitsandbytes"
   ]
  },
  {
   "cell_type": "code",
   "execution_count": 6,
   "id": "8851a2b9-0834-4352-a417-a7b6fafc05d7",
   "metadata": {},
   "outputs": [
    {
     "data": {
      "application/vnd.jupyter.widget-view+json": {
       "model_id": "e21117db56d24780be77c9ffb72fee1a",
       "version_major": 2,
       "version_minor": 0
      },
      "text/plain": [
       "Loading checkpoint shards:   0%|          | 0/4 [00:00<?, ?it/s]"
      ]
     },
     "metadata": {},
     "output_type": "display_data"
    }
   ],
   "source": [
    "from transformers import AutoModelForCausalLM, AutoTokenizer, BitsAndBytesConfig\n",
    "\n",
    "# quant_config = BitsAndBytesConfig(\n",
    "#     load_in_4bit=True,\n",
    "#     bnb_4bit_use_double_quant=True,\n",
    "#     bnb_4bit_quant_type=\"nf4\",  # или \"fp4\"\n",
    "#     bnb_4bit_compute_dtype=\"float16\"  # или \"bfloat16\"\n",
    "# )\n",
    "\n",
    "quant_config = BitsAndBytesConfig(load_in_8bit=True)\n",
    "\n",
    "model_name = \"Qwen/Qwen1.5-7B\"\n",
    "\n",
    "model = AutoModelForCausalLM.from_pretrained(\n",
    "    model_name,\n",
    "    device_map={\"\": torch.device(\"cuda:0\")},\n",
    "    quantization_config=quant_config,\n",
    "    trust_remote_code=True\n",
    ")\n",
    "\n",
    "tokenizer = AutoTokenizer.from_pretrained(model_name, trust_remote_code=True)"
   ]
  },
  {
   "cell_type": "code",
   "execution_count": 7,
   "id": "8d308504-02b3-4522-a0c8-572574d9de5d",
   "metadata": {},
   "outputs": [],
   "source": [
    "df_big_model = df_subset.head(30)"
   ]
  },
  {
   "cell_type": "code",
   "execution_count": 8,
   "id": "39751aa1-c507-4985-a4c5-0a0cce8ae51a",
   "metadata": {},
   "outputs": [
    {
     "name": "stderr",
     "output_type": "stream",
     "text": [
      "100%|██████████| 30/30 [4:40:43<00:00, 561.44s/it]  \n",
      "/tmp/ipykernel_3020824/2837779194.py:2: SettingWithCopyWarning: \n",
      "A value is trying to be set on a copy of a slice from a DataFrame.\n",
      "Try using .loc[row_indexer,col_indexer] = value instead\n",
      "\n",
      "See the caveats in the documentation: https://pandas.pydata.org/pandas-docs/stable/user_guide/indexing.html#returning-a-view-versus-a-copy\n",
      "  df_big_model[\"phd_qwen_7B\"] = phd_values_7B\n"
     ]
    }
   ],
   "source": [
    "phd_values_7B = get_phd(df_big_model, tokenizer, model, key=\"text\", n_tries=2, max_length=512)\n",
    "df_big_model[\"phd_qwen_7B\"] = phd_values_7B\n",
    "\n",
    "df_big_model.to_csv(\"phd_llm_subset_qwen_big.csv\", index=False)"
   ]
  },
  {
   "cell_type": "code",
   "execution_count": 13,
   "id": "a31390b0-3682-4154-bf3f-ed21fba30e4f",
   "metadata": {},
   "outputs": [
    {
     "name": "stdout",
     "output_type": "stream",
     "text": [
      "Qwen2Config {\n",
      "  \"architectures\": [\n",
      "    \"Qwen2ForCausalLM\"\n",
      "  ],\n",
      "  \"attention_dropout\": 0.0,\n",
      "  \"bos_token_id\": 151643,\n",
      "  \"eos_token_id\": 151643,\n",
      "  \"hidden_act\": \"silu\",\n",
      "  \"hidden_size\": 4096,\n",
      "  \"initializer_range\": 0.02,\n",
      "  \"intermediate_size\": 11008,\n",
      "  \"layer_types\": [\n",
      "    \"full_attention\",\n",
      "    \"full_attention\",\n",
      "    \"full_attention\",\n",
      "    \"full_attention\",\n",
      "    \"full_attention\",\n",
      "    \"full_attention\",\n",
      "    \"full_attention\",\n",
      "    \"full_attention\",\n",
      "    \"full_attention\",\n",
      "    \"full_attention\",\n",
      "    \"full_attention\",\n",
      "    \"full_attention\",\n",
      "    \"full_attention\",\n",
      "    \"full_attention\",\n",
      "    \"full_attention\",\n",
      "    \"full_attention\",\n",
      "    \"full_attention\",\n",
      "    \"full_attention\",\n",
      "    \"full_attention\",\n",
      "    \"full_attention\",\n",
      "    \"full_attention\",\n",
      "    \"full_attention\",\n",
      "    \"full_attention\",\n",
      "    \"full_attention\",\n",
      "    \"full_attention\",\n",
      "    \"full_attention\",\n",
      "    \"full_attention\",\n",
      "    \"full_attention\",\n",
      "    \"full_attention\",\n",
      "    \"full_attention\",\n",
      "    \"full_attention\",\n",
      "    \"full_attention\"\n",
      "  ],\n",
      "  \"max_position_embeddings\": 32768,\n",
      "  \"max_window_layers\": 28,\n",
      "  \"model_type\": \"qwen2\",\n",
      "  \"num_attention_heads\": 32,\n",
      "  \"num_hidden_layers\": 32,\n",
      "  \"num_key_value_heads\": 32,\n",
      "  \"quantization_config\": {\n",
      "    \"_load_in_4bit\": false,\n",
      "    \"_load_in_8bit\": true,\n",
      "    \"bnb_4bit_compute_dtype\": \"float32\",\n",
      "    \"bnb_4bit_quant_storage\": \"uint8\",\n",
      "    \"bnb_4bit_quant_type\": \"fp4\",\n",
      "    \"bnb_4bit_use_double_quant\": false,\n",
      "    \"llm_int8_enable_fp32_cpu_offload\": false,\n",
      "    \"llm_int8_has_fp16_weight\": false,\n",
      "    \"llm_int8_skip_modules\": null,\n",
      "    \"llm_int8_threshold\": 6.0,\n",
      "    \"load_in_4bit\": false,\n",
      "    \"load_in_8bit\": true,\n",
      "    \"quant_method\": \"bitsandbytes\"\n",
      "  },\n",
      "  \"rms_norm_eps\": 1e-06,\n",
      "  \"rope_scaling\": null,\n",
      "  \"rope_theta\": 1000000.0,\n",
      "  \"sliding_window\": null,\n",
      "  \"tie_word_embeddings\": false,\n",
      "  \"torch_dtype\": \"float16\",\n",
      "  \"transformers_version\": \"4.53.2\",\n",
      "  \"use_cache\": true,\n",
      "  \"use_sliding_window\": false,\n",
      "  \"vocab_size\": 151936\n",
      "}\n",
      "\n"
     ]
    }
   ],
   "source": [
    "print(model.config)"
   ]
  },
  {
   "cell_type": "code",
   "execution_count": 14,
   "id": "5b5a74ad-e095-46f8-981c-357dd4c3c988",
   "metadata": {},
   "outputs": [
    {
     "data": {
      "text/plain": [
       "device(type='cuda', index=0)"
      ]
     },
     "execution_count": 14,
     "metadata": {},
     "output_type": "execute_result"
    }
   ],
   "source": [
    "model.device"
   ]
  },
  {
   "cell_type": "code",
   "execution_count": 11,
   "id": "e9297ff8-bbc4-4ac8-a195-ab898029ba5c",
   "metadata": {},
   "outputs": [
    {
     "name": "stdout",
     "output_type": "stream",
     "text": [
      "Index(['id', 'source', 'sub_source', 'lang', 'model', 'label', 'text',\n",
      "       'phd_qwen_0.5B', 'phd_qwen_1.8B', 'phd_qwen_7B'],\n",
      "      dtype='object')\n"
     ]
    }
   ],
   "source": [
    "print(df_big_model.columns)"
   ]
  },
  {
   "cell_type": "code",
   "execution_count": null,
   "id": "cee80a45-d17f-46e3-8787-038ab2cde583",
   "metadata": {},
   "outputs": [
    {
     "name": "stderr",
     "output_type": "stream",
     "text": [
      "/tmp/ipykernel_3020824/2438405970.py:5: FutureWarning: \n",
      "\n",
      "Passing `palette` without assigning `hue` is deprecated and will be removed in v0.14.0. Assign the `x` variable to `hue` and set `legend=False` for the same effect.\n",
      "\n",
      "  sns.boxplot(data=df_long, x=\"Model\", y=\"PHD\", palette=\"pastel\")\n"
     ]
    },
    {
     "data": {
      "image/png": "[encoded data removed]",
      "text/plain": [
       "<Figure size 1000x600 with 1 Axes>"
      ]
     },
     "metadata": {},
     "output_type": "display_data"
    }
   ],
   "source": [
    "plt.figure(figsize=(10,6))\n",
    "phd_columns = ['phd_qwen_0.5B', 'phd_qwen_1.8B', 'phd_qwen_7B']\n",
    "df_long = df_big_model[phd_columns].melt(var_name=\"Model\", value_name=\"PHD\")\n",
    "\n",
    "sns.boxplot(data=df_long, x=\"Model\", y=\"PHD\", palette=\"pastel\")\n",
    "\n",
    "plt.title(\"Сравнение PHD по моделям Qwen при 30 текстах\")\n",
    "plt.xlabel(\"Модель\")\n",
    "plt.ylabel(\"PHD\")\n",
    "plt.grid(True)\n",
    "plt.tight_layout()\n",
    "plt.show()"
   ]
  },
  {
   "cell_type": "code",
   "execution_count": 23,
   "id": "c670a18d",
   "metadata": {},
   "outputs": [
    {
     "name": "stdout",
     "output_type": "stream",
     "text": [
      "Часть текстов, где phd строго растет при росте мощности модели (30 текстов на 0.5, 1.8, 7B):  0.93\n",
      "Часть текстов, где phd при 1.8 больше 0.5 на 300 текстах:  0.99\n"
     ]
    }
   ],
   "source": [
    "value = np.mean(\n",
    "    (df_big_model[\"phd_qwen_7B\"] > df_big_model[\"phd_qwen_1.8B\"]) &\n",
    "    (df_big_model[\"phd_qwen_1.8B\"] > df_big_model[\"phd_qwen_0.5B\"])\n",
    ")\n",
    "\n",
    "print(f\"Часть текстов, где phd строго растет при росте мощности модели (30 текстов на 0.5, 1.8, 7B): {value: .2f}\")\n",
    "\n",
    "value = np.mean(\n",
    "    df_subset[\"phd_qwen_1.8B\"] > df_subset[\"phd_qwen_0.5B\"]\n",
    ")\n",
    "\n",
    "print(f\"Часть текстов, где phd при 1.8 больше 0.5 на 300 текстах: {value: .2f}\")"
   ]
  },
  {
   "cell_type": "code",
   "execution_count": 15,
   "id": "3cb9d5ae",
   "metadata": {},
   "outputs": [
    {
     "name": "stderr",
     "output_type": "stream",
     "text": [
      "/tmp/ipykernel_3020824/3410855163.py:10: FutureWarning: The behavior of DataFrame concatenation with empty or all-NA entries is deprecated. In a future version, this will no longer exclude empty or all-NA columns when determining the result dtypes. To retain the old behavior, exclude the relevant entries before the concat operation.\n",
      "  df_combined = pd.concat([df_temp, df_extra], ignore_index=True)\n"
     ]
    },
    {
     "data": {
      "image/png": "[encoded data removed]",
      "text/plain": [
       "<Figure size 800x600 with 1 Axes>"
      ]
     },
     "metadata": {},
     "output_type": "display_data"
    }
   ],
   "source": [
    "df_temp = df_subset[['phd_qwen_0.5B', 'phd_qwen_1.8B']].copy()\n",
    "df_temp['phd_qwen_7B'] = pd.NA\n",
    "\n",
    "df_extra = pd.DataFrame({\n",
    "    'phd_qwen_0.5B': [pd.NA] * len(df_big_model),\n",
    "    'phd_qwen_1.8B': [pd.NA] * len(df_big_model),\n",
    "    'phd_qwen_7B': df_big_model['phd_qwen_7B'].values\n",
    "})\n",
    "\n",
    "df_combined = pd.concat([df_temp, df_extra], ignore_index=True)\n",
    "\n",
    "df_long = df_combined.melt(var_name='Model', value_name='PHD').dropna()\n",
    "\n",
    "counts = df_long['Model'].value_counts().to_dict()\n",
    "title = \"Сравнение PHD для Qwen моделей:\\n\"\n",
    "title += \" | \".join([f\"{model} (n={counts[model]})\" for model in sorted(counts)])\n",
    "\n",
    "plt.figure(figsize=(8, 6))\n",
    "sns.boxplot(x='Model', y='PHD', data=df_long)\n",
    "plt.title(title)\n",
    "plt.xlabel(\"Модель\")\n",
    "plt.ylabel(\"PHD\")\n",
    "plt.grid(True)\n",
    "plt.tight_layout()\n",
    "plt.show()"
   ]
  },
  {
   "cell_type": "code",
   "execution_count": null,
   "id": "31bf1616",
   "metadata": {},
   "outputs": [],
   "source": []
  }
 ],
 "metadata": {
  "kernelspec": {
   "display_name": "Python (PHD)",
   "language": "python",
   "name": "phd_env"
  },
  "language_info": {
   "codemirror_mode": {
    "name": "ipython",
    "version": 3
   },
   "file_extension": ".py",
   "mimetype": "text/x-python",
   "name": "python",
   "nbconvert_exporter": "python",
   "pygments_lexer": "ipython3",
   "version": "3.10.12"
  }
 },
 "nbformat": 4,
 "nbformat_minor": 5
}
