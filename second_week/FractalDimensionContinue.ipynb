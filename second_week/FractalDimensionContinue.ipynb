{
 "cells": [
  {
   "cell_type": "code",
   "execution_count": 3,
   "id": "fff095a9-9c2e-46da-98a8-211eb4f46b29",
   "metadata": {},
   "outputs": [
    {
     "name": "stderr",
     "output_type": "stream",
     "text": [
      "Some weights of RobertaModel were not initialized from the model checkpoint at roberta-base and are newly initialized: ['pooler.dense.bias', 'pooler.dense.weight']\n",
      "You should probably TRAIN this model on a down-stream task to be able to use it for predictions and inference.\n"
     ]
    }
   ],
   "source": [
    "import pandas as pd\n",
    "import json\n",
    "from phd import get_phd\n",
    "\n",
    "\n",
    "def read_jsonl_with_json(file_path):\n",
    "    data = []\n",
    "    with open(file_path, 'r') as f:\n",
    "        for line in f:\n",
    "            try:\n",
    "                json_object = json.loads(line)\n",
    "                data.append(json_object)\n",
    "            except json.JSONDecodeError as e:\n",
    "                print(f\"Error decoding JSON on line: {line.strip()}, error: {e}\")\n",
    "    return data"
   ]
  },
  {
   "cell_type": "code",
   "execution_count": 5,
   "id": "43992b0f-f45b-47cb-93e9-596a499d2335",
   "metadata": {},
   "outputs": [],
   "source": [
    "file_path = 'data/fractal_dim/mistral_7b_1.0_wikipedia_continue_it.jsonl'\n",
    "jsonl_data = read_jsonl_with_json(file_path)\n",
    "df_tmp = pd.DataFrame(jsonl_data)"
   ]
  },
  {
   "cell_type": "code",
   "execution_count": 6,
   "id": "ec15a89b-54d4-4ca3-855c-ae24a15e4560",
   "metadata": {},
   "outputs": [
    {
     "name": "stderr",
     "output_type": "stream",
     "text": [
      "100%|███████████████████████████████████████████| 30/30 [09:03<00:00, 18.12s/it]\n"
     ]
    }
   ],
   "source": [
    "human_phd = get_phd(df_tmp.iloc[:30, :], 'original_text', n_tries=10)"
   ]
  },
  {
   "cell_type": "code",
   "execution_count": 7,
   "id": "e8d3f5fb-15a6-4496-b644-e80086c4a305",
   "metadata": {},
   "outputs": [
    {
     "name": "stderr",
     "output_type": "stream",
     "text": [
      "100%|███████████████████████████████████████████| 30/30 [08:43<00:00, 17.45s/it]\n"
     ]
    }
   ],
   "source": [
    "llm_phd = get_phd(df_tmp.iloc[:30, :], 'llm_text', n_tries=10)"
   ]
  },
  {
   "cell_type": "code",
   "execution_count": 8,
   "id": "f2132f9b-bd6e-44c3-88a6-5b0fc5d463f3",
   "metadata": {},
   "outputs": [
    {
     "data": {
      "text/plain": [
       "array([[<Axes: title={'center': '0'}>]], dtype=object)"
      ]
     },
     "execution_count": 8,
     "metadata": {},
     "output_type": "execute_result"
    },
    {
     "data": {
      "image/png": "[encoded data removed]",
      "text/plain": [
       "<Figure size 640x480 with 1 Axes>"
      ]
     },
     "metadata": {},
     "output_type": "display_data"
    }
   ],
   "source": [
    "pd.DataFrame(human_phd).hist(bins=10)"
   ]
  },
  {
   "cell_type": "code",
   "execution_count": 9,
   "id": "911adf6e-a048-4ff3-ad68-5622396c4bae",
   "metadata": {},
   "outputs": [
    {
     "data": {
      "text/plain": [
       "array([[<Axes: title={'center': '0'}>]], dtype=object)"
      ]
     },
     "execution_count": 9,
     "metadata": {},
     "output_type": "execute_result"
    },
    {
     "data": {
      "image/png": "[encoded data removed]",
      "text/plain": [
       "<Figure size 640x480 with 1 Axes>"
      ]
     },
     "metadata": {},
     "output_type": "display_data"
    }
   ],
   "source": [
    "pd.DataFrame(llm_phd).hist(bins=10)"
   ]
  },
  {
   "cell_type": "code",
   "execution_count": 10,
   "id": "da7a320b-1ec5-4e5d-88d2-a0a5863f92d2",
   "metadata": {},
   "outputs": [
    {
     "data": {
      "text/plain": [
       "0    9.147102\n",
       "dtype: float64"
      ]
     },
     "execution_count": 10,
     "metadata": {},
     "output_type": "execute_result"
    }
   ],
   "source": [
    "pd.DataFrame(human_phd).mean()"
   ]
  },
  {
   "cell_type": "code",
   "execution_count": 11,
   "id": "7de0219b-3c5a-4af1-82c8-ee9706f13542",
   "metadata": {},
   "outputs": [
    {
     "data": {
      "text/plain": [
       "0    6.853193\n",
       "dtype: float64"
      ]
     },
     "execution_count": 11,
     "metadata": {},
     "output_type": "execute_result"
    }
   ],
   "source": [
    "pd.DataFrame(llm_phd).mean()"
   ]
  },
  {
   "cell_type": "code",
   "execution_count": null,
   "id": "2c9c25c5-814b-4ad8-97dc-ec22ac4fa10c",
   "metadata": {},
   "outputs": [],
   "source": []
  }
 ],
 "metadata": {
  "kernelspec": {
   "display_name": "Python 3 (ipykernel)",
   "language": "python",
   "name": "python3"
  },
  "language_info": {
   "codemirror_mode": {
    "name": "ipython",
    "version": 3
   },
   "file_extension": ".py",
   "mimetype": "text/x-python",
   "name": "python",
   "nbconvert_exporter": "python",
   "pygments_lexer": "ipython3",
   "version": "3.10.12"
  }
 },
 "nbformat": 4,
 "nbformat_minor": 5
}
