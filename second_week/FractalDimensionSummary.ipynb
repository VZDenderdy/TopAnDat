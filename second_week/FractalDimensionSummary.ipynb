{
 "cells": [
  {
   "cell_type": "code",
   "execution_count": 8,
   "id": "49539735-5433-400c-ac41-caf97711015e",
   "metadata": {},
   "outputs": [
    {
     "name": "stdout",
     "output_type": "stream",
     "text": [
      "gemma_2b_0.5_wikipedia_continue_it.jsonl\n",
      "gemma_2b_1.0_wikipedia_continue_it.jsonl\n",
      "mistral_7b_0.5_wikipedia_continue_it.jsonl\n",
      "mistral_7b_1.0_wikipedia_continue_it.jsonl\n"
     ]
    }
   ],
   "source": [
    "!ls data/fractal_dim/\n"
   ]
  },
  {
   "cell_type": "code",
   "execution_count": 13,
   "id": "b8941bf0-6aa7-4d19-8c79-3dacc9b69871",
   "metadata": {},
   "outputs": [],
   "source": [
    "import pandas as pd\n",
    "import json\n",
    "\n",
    "\n",
    "def read_jsonl_with_json(file_path):\n",
    "    data = []\n",
    "    with open(file_path, 'r') as f:\n",
    "        for line in f:\n",
    "            try:\n",
    "                json_object = json.loads(line)\n",
    "                data.append(json_object)\n",
    "            except json.JSONDecodeError as e:\n",
    "                print(f\"Error decoding JSON on line: {line.strip()}, error: {e}\")\n",
    "    return data"
   ]
  },
  {
   "cell_type": "code",
   "execution_count": 23,
   "id": "7d759e4f-3b83-45e7-b04f-54e518a627a8",
   "metadata": {},
   "outputs": [],
   "source": [
    "file_path = 'data/fractal_dim/mistral_7b_1.0_wikipedia_summary.jsonl'\n",
    "jsonl_data = read_jsonl_with_json(file_path)\n"
   ]
  },
  {
   "cell_type": "code",
   "execution_count": 24,
   "id": "0943a754-ea4b-47b9-9645-3fcbac44cd52",
   "metadata": {},
   "outputs": [
    {
     "data": {
      "text/plain": [
       "model\n",
       "mistral_7b    700\n",
       "Name: count, dtype: int64"
      ]
     },
     "execution_count": 24,
     "metadata": {},
     "output_type": "execute_result"
    }
   ],
   "source": [
    "pd.DataFrame(jsonl_data)['model'].value_counts()"
   ]
  },
  {
   "cell_type": "code",
   "execution_count": 26,
   "id": "66e1aed1-ad1e-4294-9069-a4bf66cd6fc2",
   "metadata": {},
   "outputs": [],
   "source": [
    "df_tmp = pd.DataFrame(jsonl_data)"
   ]
  },
  {
   "cell_type": "code",
   "execution_count": 22,
   "id": "bd787471-cf48-4fac-a61e-c2c364ac5801",
   "metadata": {},
   "outputs": [
    {
     "data": {
      "text/plain": [
       "prompt_type\n",
       "continue_it    700\n",
       "Name: count, dtype: int64"
      ]
     },
     "execution_count": 22,
     "metadata": {},
     "output_type": "execute_result"
    }
   ],
   "source": [
    "pd.DataFrame(jsonl_data)['prompt_type'].value_counts()"
   ]
  },
  {
   "cell_type": "code",
   "execution_count": 48,
   "id": "76347657-c3ee-421d-b9d8-25697db892cd",
   "metadata": {},
   "outputs": [
    {
     "data": {
      "text/html": [
       "<div>\n",
       "<style scoped>\n",
       "    .dataframe tbody tr th:only-of-type {\n",
       "        vertical-align: middle;\n",
       "    }\n",
       "\n",
       "    .dataframe tbody tr th {\n",
       "        vertical-align: top;\n",
       "    }\n",
       "\n",
       "    .dataframe thead th {\n",
       "        text-align: right;\n",
       "    }\n",
       "</style>\n",
       "<table border=\"1\" class=\"dataframe\">\n",
       "  <thead>\n",
       "    <tr style=\"text-align: right;\">\n",
       "      <th></th>\n",
       "      <th>_id</th>\n",
       "      <th>dataset_name</th>\n",
       "      <th>dataset_id</th>\n",
       "      <th>model</th>\n",
       "      <th>prompt_type</th>\n",
       "      <th>temperature</th>\n",
       "      <th>llm_text</th>\n",
       "      <th>original_text</th>\n",
       "      <th>prefix</th>\n",
       "      <th>llm_text_quality</th>\n",
       "      <th>scores</th>\n",
       "    </tr>\n",
       "  </thead>\n",
       "  <tbody>\n",
       "    <tr>\n",
       "      <th>0</th>\n",
       "      <td>wikip-mistral-7b-write-1.0-00013-of-00256--513</td>\n",
       "      <td>wikipedia</td>\n",
       "      <td>00013-of-00256__513</td>\n",
       "      <td>mistral_7b</td>\n",
       "      <td>summary</td>\n",
       "      <td>1.0</td>\n",
       "      <td>\\nMorrison's early MMA career was characterize...</td>\n",
       "      <td>Anthony Morrison (born March 29, 1984) is an A...</td>\n",
       "      <td>Write about the following in a minimum of 15 p...</td>\n",
       "      <td>**Good:** The document provides a detailed ana...</td>\n",
       "      <td>{'gemma-2b': {'llm_text': {'token_ids': [108, ...</td>\n",
       "    </tr>\n",
       "    <tr>\n",
       "      <th>1</th>\n",
       "      <td>wikip-mistral-7b-write-1.0-00008-of-00256--428</td>\n",
       "      <td>wikipedia</td>\n",
       "      <td>00008-of-00256__428</td>\n",
       "      <td>mistral_7b</td>\n",
       "      <td>summary</td>\n",
       "      <td>1.0</td>\n",
       "      <td>\\nThe Newport Tower is a fascinating historica...</td>\n",
       "      <td>The Newport Tower (also known as: Round Tower,...</td>\n",
       "      <td>Write about the following in a minimum of 15 p...</td>\n",
       "      <td>The document is well-written and informative, ...</td>\n",
       "      <td>{'gemma-2b': {'llm_text': {'token_ids': [108, ...</td>\n",
       "    </tr>\n",
       "    <tr>\n",
       "      <th>2</th>\n",
       "      <td>wikip-mistral-7b-write-1.0-00007-of-00256--468</td>\n",
       "      <td>wikipedia</td>\n",
       "      <td>00007-of-00256__468</td>\n",
       "      <td>mistral_7b</td>\n",
       "      <td>summary</td>\n",
       "      <td>1.0</td>\n",
       "      <td>\\nMaczek was born on August 22, 1892, in the v...</td>\n",
       "      <td>General Stanisław Maczek (; 31 March 1892 – 11...</td>\n",
       "      <td>Write about the following in a minimum of 15 p...</td>\n",
       "      <td>**Good:**\\n- The document provides a detailed ...</td>\n",
       "      <td>{'gemma-2b': {'llm_text': {'token_ids': [108, ...</td>\n",
       "    </tr>\n",
       "    <tr>\n",
       "      <th>3</th>\n",
       "      <td>wikip-mistral-7b-write-1.0-00004-of-00256--408</td>\n",
       "      <td>wikipedia</td>\n",
       "      <td>00004-of-00256__408</td>\n",
       "      <td>mistral_7b</td>\n",
       "      <td>summary</td>\n",
       "      <td>1.0</td>\n",
       "      <td>\\nDGC Rarities Vol. 1 was a labor of love for ...</td>\n",
       "      <td>DGC Rarities Vol. 1 is a rarities album compil...</td>\n",
       "      <td>Write about the following in a minimum of 15 p...</td>\n",
       "      <td>The document is well-written and informative. ...</td>\n",
       "      <td>{'gemma-2b': {'llm_text': {'token_ids': [108, ...</td>\n",
       "    </tr>\n",
       "    <tr>\n",
       "      <th>4</th>\n",
       "      <td>wikip-mistral-7b-write-1.0-00001-of-00256--742</td>\n",
       "      <td>wikipedia</td>\n",
       "      <td>00001-of-00256__742</td>\n",
       "      <td>mistral_7b</td>\n",
       "      <td>summary</td>\n",
       "      <td>1.0</td>\n",
       "      <td>\\nKalna I CD Block is situated in the central ...</td>\n",
       "      <td>Kalna I is a community development block that ...</td>\n",
       "      <td>Write about the following in a minimum of 15 p...</td>\n",
       "      <td>**Good:**\\n\\n* The document provides a detaile...</td>\n",
       "      <td>{'gemma-2b': {'llm_text': {'token_ids': [108, ...</td>\n",
       "    </tr>\n",
       "    <tr>\n",
       "      <th>...</th>\n",
       "      <td>...</td>\n",
       "      <td>...</td>\n",
       "      <td>...</td>\n",
       "      <td>...</td>\n",
       "      <td>...</td>\n",
       "      <td>...</td>\n",
       "      <td>...</td>\n",
       "      <td>...</td>\n",
       "      <td>...</td>\n",
       "      <td>...</td>\n",
       "      <td>...</td>\n",
       "    </tr>\n",
       "    <tr>\n",
       "      <th>695</th>\n",
       "      <td>wikip-mistral-7b-write-1.0-00013-of-00256--87</td>\n",
       "      <td>wikipedia</td>\n",
       "      <td>00013-of-00256__87</td>\n",
       "      <td>mistral_7b</td>\n",
       "      <td>summary</td>\n",
       "      <td>1.0</td>\n",
       "      <td>\\nThe Czech Republic's airspace is located in ...</td>\n",
       "      <td>The Czech Air Force (Czech: Vzdušné síly Armád...</td>\n",
       "      <td>Write about the following in a minimum of 15 p...</td>\n",
       "      <td>**Good:** The document provides a detailed ove...</td>\n",
       "      <td>{'gemma-2b': {'llm_text': {'token_ids': [108, ...</td>\n",
       "    </tr>\n",
       "    <tr>\n",
       "      <th>696</th>\n",
       "      <td>wikip-mistral-7b-write-1.0-00006-of-00256--271</td>\n",
       "      <td>wikipedia</td>\n",
       "      <td>00006-of-00256__271</td>\n",
       "      <td>mistral_7b</td>\n",
       "      <td>summary</td>\n",
       "      <td>1.0</td>\n",
       "      <td>\\nThe National Football League (NFL) is a prof...</td>\n",
       "      <td>This is a list of current and defunct leagues ...</td>\n",
       "      <td>Write about the following in a minimum of 15 p...</td>\n",
       "      <td>The document provides an overview of various p...</td>\n",
       "      <td>{'gemma-2b': {'llm_text': {'token_ids': [108, ...</td>\n",
       "    </tr>\n",
       "    <tr>\n",
       "      <th>697</th>\n",
       "      <td>wikip-mistral-7b-write-1.0-00013-of-00256--803</td>\n",
       "      <td>wikipedia</td>\n",
       "      <td>00013-of-00256__803</td>\n",
       "      <td>mistral_7b</td>\n",
       "      <td>summary</td>\n",
       "      <td>1.0</td>\n",
       "      <td>\\nAlicaforsen is a synthetic antisense oligonu...</td>\n",
       "      <td>Alicaforsen is an antisense oligonucleotide th...</td>\n",
       "      <td>Write about the following in a minimum of 15 p...</td>\n",
       "      <td>**Positive:**\\n* Provides a clear explanation ...</td>\n",
       "      <td>{'gemma-2b': {'llm_text': {'token_ids': [108, ...</td>\n",
       "    </tr>\n",
       "    <tr>\n",
       "      <th>698</th>\n",
       "      <td>wikip-mistral-7b-write-1.0-00005-of-00256--424</td>\n",
       "      <td>wikipedia</td>\n",
       "      <td>00005-of-00256__424</td>\n",
       "      <td>mistral_7b</td>\n",
       "      <td>summary</td>\n",
       "      <td>1.0</td>\n",
       "      <td>\\nHowever, things take an unexpected turn when...</td>\n",
       "      <td>Pannaiyarum Padminiyum (The Landlord and Padmi...</td>\n",
       "      <td>Write about the following in a minimum of 15 p...</td>\n",
       "      <td>The document is well written and easy to under...</td>\n",
       "      <td>{'gemma-2b': {'llm_text': {'token_ids': [108, ...</td>\n",
       "    </tr>\n",
       "    <tr>\n",
       "      <th>699</th>\n",
       "      <td>wikip-mistral-7b-write-1.0-00003-of-00256--86</td>\n",
       "      <td>wikipedia</td>\n",
       "      <td>00003-of-00256__86</td>\n",
       "      <td>mistral_7b</td>\n",
       "      <td>summary</td>\n",
       "      <td>1.0</td>\n",
       "      <td>\\nAlec Checkerfield, a cyborg created by Dr. Z...</td>\n",
       "      <td>The Machine's Child is a science fiction novel...</td>\n",
       "      <td>Write about the following in a minimum of 15 p...</td>\n",
       "      <td>The document is intriguing, with a detailed an...</td>\n",
       "      <td>{'gemma-2b': {'llm_text': {'token_ids': [108, ...</td>\n",
       "    </tr>\n",
       "  </tbody>\n",
       "</table>\n",
       "<p>700 rows × 11 columns</p>\n",
       "</div>"
      ],
      "text/plain": [
       "                                                _id dataset_name  \\\n",
       "0    wikip-mistral-7b-write-1.0-00013-of-00256--513    wikipedia   \n",
       "1    wikip-mistral-7b-write-1.0-00008-of-00256--428    wikipedia   \n",
       "2    wikip-mistral-7b-write-1.0-00007-of-00256--468    wikipedia   \n",
       "3    wikip-mistral-7b-write-1.0-00004-of-00256--408    wikipedia   \n",
       "4    wikip-mistral-7b-write-1.0-00001-of-00256--742    wikipedia   \n",
       "..                                              ...          ...   \n",
       "695   wikip-mistral-7b-write-1.0-00013-of-00256--87    wikipedia   \n",
       "696  wikip-mistral-7b-write-1.0-00006-of-00256--271    wikipedia   \n",
       "697  wikip-mistral-7b-write-1.0-00013-of-00256--803    wikipedia   \n",
       "698  wikip-mistral-7b-write-1.0-00005-of-00256--424    wikipedia   \n",
       "699   wikip-mistral-7b-write-1.0-00003-of-00256--86    wikipedia   \n",
       "\n",
       "              dataset_id       model prompt_type temperature  \\\n",
       "0    00013-of-00256__513  mistral_7b     summary         1.0   \n",
       "1    00008-of-00256__428  mistral_7b     summary         1.0   \n",
       "2    00007-of-00256__468  mistral_7b     summary         1.0   \n",
       "3    00004-of-00256__408  mistral_7b     summary         1.0   \n",
       "4    00001-of-00256__742  mistral_7b     summary         1.0   \n",
       "..                   ...         ...         ...         ...   \n",
       "695   00013-of-00256__87  mistral_7b     summary         1.0   \n",
       "696  00006-of-00256__271  mistral_7b     summary         1.0   \n",
       "697  00013-of-00256__803  mistral_7b     summary         1.0   \n",
       "698  00005-of-00256__424  mistral_7b     summary         1.0   \n",
       "699   00003-of-00256__86  mistral_7b     summary         1.0   \n",
       "\n",
       "                                              llm_text  \\\n",
       "0    \\nMorrison's early MMA career was characterize...   \n",
       "1    \\nThe Newport Tower is a fascinating historica...   \n",
       "2    \\nMaczek was born on August 22, 1892, in the v...   \n",
       "3    \\nDGC Rarities Vol. 1 was a labor of love for ...   \n",
       "4    \\nKalna I CD Block is situated in the central ...   \n",
       "..                                                 ...   \n",
       "695  \\nThe Czech Republic's airspace is located in ...   \n",
       "696  \\nThe National Football League (NFL) is a prof...   \n",
       "697  \\nAlicaforsen is a synthetic antisense oligonu...   \n",
       "698  \\nHowever, things take an unexpected turn when...   \n",
       "699  \\nAlec Checkerfield, a cyborg created by Dr. Z...   \n",
       "\n",
       "                                         original_text  \\\n",
       "0    Anthony Morrison (born March 29, 1984) is an A...   \n",
       "1    The Newport Tower (also known as: Round Tower,...   \n",
       "2    General Stanisław Maczek (; 31 March 1892 – 11...   \n",
       "3    DGC Rarities Vol. 1 is a rarities album compil...   \n",
       "4    Kalna I is a community development block that ...   \n",
       "..                                                 ...   \n",
       "695  The Czech Air Force (Czech: Vzdušné síly Armád...   \n",
       "696  This is a list of current and defunct leagues ...   \n",
       "697  Alicaforsen is an antisense oligonucleotide th...   \n",
       "698  Pannaiyarum Padminiyum (The Landlord and Padmi...   \n",
       "699  The Machine's Child is a science fiction novel...   \n",
       "\n",
       "                                                prefix  \\\n",
       "0    Write about the following in a minimum of 15 p...   \n",
       "1    Write about the following in a minimum of 15 p...   \n",
       "2    Write about the following in a minimum of 15 p...   \n",
       "3    Write about the following in a minimum of 15 p...   \n",
       "4    Write about the following in a minimum of 15 p...   \n",
       "..                                                 ...   \n",
       "695  Write about the following in a minimum of 15 p...   \n",
       "696  Write about the following in a minimum of 15 p...   \n",
       "697  Write about the following in a minimum of 15 p...   \n",
       "698  Write about the following in a minimum of 15 p...   \n",
       "699  Write about the following in a minimum of 15 p...   \n",
       "\n",
       "                                      llm_text_quality  \\\n",
       "0    **Good:** The document provides a detailed ana...   \n",
       "1    The document is well-written and informative, ...   \n",
       "2    **Good:**\\n- The document provides a detailed ...   \n",
       "3    The document is well-written and informative. ...   \n",
       "4    **Good:**\\n\\n* The document provides a detaile...   \n",
       "..                                                 ...   \n",
       "695  **Good:** The document provides a detailed ove...   \n",
       "696  The document provides an overview of various p...   \n",
       "697  **Positive:**\\n* Provides a clear explanation ...   \n",
       "698  The document is well written and easy to under...   \n",
       "699  The document is intriguing, with a detailed an...   \n",
       "\n",
       "                                                scores  \n",
       "0    {'gemma-2b': {'llm_text': {'token_ids': [108, ...  \n",
       "1    {'gemma-2b': {'llm_text': {'token_ids': [108, ...  \n",
       "2    {'gemma-2b': {'llm_text': {'token_ids': [108, ...  \n",
       "3    {'gemma-2b': {'llm_text': {'token_ids': [108, ...  \n",
       "4    {'gemma-2b': {'llm_text': {'token_ids': [108, ...  \n",
       "..                                                 ...  \n",
       "695  {'gemma-2b': {'llm_text': {'token_ids': [108, ...  \n",
       "696  {'gemma-2b': {'llm_text': {'token_ids': [108, ...  \n",
       "697  {'gemma-2b': {'llm_text': {'token_ids': [108, ...  \n",
       "698  {'gemma-2b': {'llm_text': {'token_ids': [108, ...  \n",
       "699  {'gemma-2b': {'llm_text': {'token_ids': [108, ...  \n",
       "\n",
       "[700 rows x 11 columns]"
      ]
     },
     "execution_count": 48,
     "metadata": {},
     "output_type": "execute_result"
    }
   ],
   "source": [
    "df_tmp"
   ]
  },
  {
   "cell_type": "code",
   "execution_count": 32,
   "id": "96a432f4-9868-454e-8e13-74429825a890",
   "metadata": {},
   "outputs": [
    {
     "data": {
      "text/plain": [
       "'The Newport Tower (also known as: Round Tower, Touro Tower, Newport Stone Tower, and Old Stone Mill) is a round stone tower located in Touro Park in Newport, Rhode Island, the remains of a windmill built in the mid-17th century. It has received attention due to speculation that it is actually several centuries older and would thus represent evidence of pre-Columbian trans-oceanic contact. Carbon dating shows this belief to be incorrect.\\n\\nDescription \\nThe Newport Tower is located in Touro Park at the top of Mill Street, surrounded by a historical residential neighborhood on the hill above the waterfront tourist district.  Eighteenth-century paintings show that the hill itself once furnished a view of the harbor and would have been visible to passing mariners in Narragansett Bay, but recent tree growth now obscures the view.\\n\\nThe Newport Tower is not exactly circular. From southeast to northwest, the diameter reportedly measures  but, when measured from east to west, the diameter lengthens to . However, the 19th-century measurements of the interior gave an east–west dimension of , which was slightly shorter than the north–south measurement of , suggesting that the discrepancies may be due to the unevenness of the rubble masonry.  The tower has a height of  and an exterior width of .  At one time, the interior of the tower was coated with smooth white plaster, the remnants of which may be seen on the interior faces of several pillars.  It is supported by eight cylindrical columns that form stone arches, two of which are slightly broader than the other six.  Above the arches and inside the tower is evidence of a floor that once supported an interior chamber.  The walls are approximately  thick, and the diameter of the inner chamber is approximately .  The chamber has four windows on what used to be the main floor, and three very small ones at the upper level. Almost directly opposite the west window is a fireplace backed with grey stone and flanked by nooks.\\n\\nA representation of the tower is featured prominently on the seal and unit patch of the former US Navy vessel USS Newport.\\n\\nThe tower is described in a document of 1741 as \"the old stone mill.\"  It was used as a haymow in 1760, while it was described in 1767 as being used as a powder store \"some time past\".  De Barres\\' plan of Newport published in 1776 marks it as \"Stone Wind Mill.\" During the American Revolution, the tower was used by the Americans as a lookout and by the British to store munitions.\\n\\nConstruction \\nThe tower is located at the upper end of the plot behind the now-demolished mansion built by Benedict Arnold, the first colonial governor of Rhode Island, who moved from Pawtuxet to Newport in 1651.  In 1677, Arnold mentions \"my stone built Wind Mill\" in his will; the site for his burying ground is between this mill and his mansion and still exists today.  The phrase has therefore generally been accepted as referring to the Newport Tower, and is evidence that the tower was once used as a windmill.\\n\\nAn illustration from the British \"Penny Magazine\" published in 1836 (shown at right) reveals that the tower is of a similar type to Chesterton Windmill, a 17th-century mill near Chesterton, Warwickshire, England. There is a mistaken notion that Arnold was born in Leamington, Warwickshire, only a short distance from Chesterton; the family lived near Limington in Somerset, about  away. However, Chesterton windmill stands on a ridge within half a mile of one of the main southwest–northeast roads of early modern Britain, which also runs past Limington, and it is entirely plausible that Arnold would have seen it, or perhaps another colonist in a position to influence the design of his \"stone built windmill\". \\n\\nVarious authors have suggested that comparable mediaeval buildings can be found in Europe, particularly the Orphir Round Church on Orkney built in Scotland around 1115, and the round churches on the Danish island of Bornholm, such as Østerlars Church dating from around 1160.\\n\\nScientific investigations\\n\\n1848 mortar comparison \\nIn 1848, the Rev. Dr. Jackson of Newport collected samples of mortar from the mill and some of the oldest known structures in the town, including the very early Bull house (c. 1640), the Easton house (1642–1643), other houses, and the tombs of Governor Arnold and his wife.  Under detailed examination, all proved to be of very similar composition, \"composed of shell lime, sand, and gravel\".\\n\\n1948 excavation \\n\\nThe city of Newport gave permission for a scientific investigation of the site by the Society for American Archaeology in 1948.  The investigation was directed by Hugh Henken of Harvard University, with the field work headed by William S. Godfrey.  As part of the investigation, a one-meter-wide trench was dug from the tower\\'s exterior through the interior.  The results were published in Godfrey\\'s 1951 Ph.D. dissertation and concluded that all the artifacts discovered were from the 17th century. Godfrey\\'s dissertation identifies Benedict Arnold as the builder of the tower, stating that Arnold \"purchased some of his Newport property, specifically the section on which he later built his house and the stone mill, the year before he moved.... At some period before 1677 Arnold built the Old Stone Mill.\"\\n\\nThere is no evidence for Godfrey\\'s assertion that Arnold \"built his house\" in Newport. From Godfrey\\'s thesis: \"It is strongly suggested by the records that he purchased some of his Newport property, specifically the section on which he later built his house and the Stone Mill, the year before he moved. (Thompkins, 1919, quoting Roger Williams, 1650) The original owner had been Jeremy Clarke, but there is no indication that Clarke ever built on the property.\"\\n\\nThompkins wrote: “It will be noticed as an evidence of Benedict Arnold\\'s prominence that his name is mentioned first in the order, rather than his father, and as an indication of his increasing wealth at the assessment of taxes in Providence in 1650, Benedict Arnold\\'s amount was put at £5, the largest sum assessed against any one individual. In June of this same year Roger Williams, in writing to Gov. Winthrop of Connecticut says, \"Benedict Arnold having now bought house and land at Newport, proposing thither to remove.\"\\n\\nGodfrey initially dismissed the Chesterton Mill theory, claiming that \"on the other hand, there is very little probability that Benedict built his Tower as a mill... the tower mill form, as contrasted to the smock, post and composite forms, was not common in England until the beginning of the 18th century.\" Godfrey posited the hypothesis that \"the tower was built as a comfortable retreat and lookout for a very rich and very autocratic old man.\" However, he later retreated from this position, noting in 1954 that \"Rex Wailes, noted English expert on windmills... has supported the contention that both structures were built as mills.\"  It has since been shown that tower mills were known in England from the late 13th century and that they became increasingly common from the late 16th century onwards. Subsequent research has determined that Chesterton was, in fact, built as a windmill in 1632–33, as the original building accounts have been traced since Wailes\\' death in 1986, including payments for sailcloths.\\nThere are also several surviving 17th-century unarched stone tower mills in North America, which are similar in appearance to European examples of the same period (e.g., Moulin de Grondines, Quebec (1674) and Moulin de Vincelotte, Quebec (1690)).\\n\\n1993 carbon-14 dating \\nIn 1993, radiocarbon dating tests of the tower\\'s mortar were undertaken by a team of researchers from Denmark and Finland. The results suggest a probable date of production of the mortar between 1635 and 1698.  The tested mortar may date from the tower\\'s initial construction or from repointing, which may have been performed long after initial construction.  The researchers drilled \"deep so as to get past any recent mortar that might have been applied during tuck pointing.\" In a 2003 report on this and related work, Hale, et al. put the date of the mortar, and thus the tower, at about 1680.\\n\\nAlternative hypotheses\\n\\nNorse\\n\\nIn 1837, Danish archaeologist Carl Christian Rafn proposed a Viking origin for the tower in his book Antiquitates Americanæ, partly based on his research of the inscriptions on the Dighton Rock near the mouth of the Taunton River. This hypothesis is predicated on the uncertainty of the southward extent of the early Norse explorations of North America, particularly in regard to the actual location of Vinland.\\nRafn\\'s popularization of the theory led to a flurry of interest and \"proofs\" of Norse settlement in the area. Henry Wadsworth Longfellow incorporated the Norse-origin view of the tower into his poem \"The Skeleton in Armor\". Philip Ainsworth Means, an archaeologist whose specialty was Andean civilizations, attempted to compile all known evidence surrounding the tower in his 1942 book Newport Tower. As a supporter of the Norse hypothesis, Means dismissed the idea that Arnold built the tower \"from the ground up.\" He claimed that the Tower was a church built between the 11th and 14th centuries, citing many architectural features obsolete by the 17th century.\\n\\nSince then, much of Means\\' evidence has been shown to be mistaken.  His assertion is incorrect that a windmill would not have fireplaces because of the fire risk. Several have fireplaces aligned with windows, and it is not unusual to find a double flue exiting the wall, generally with the exits aligned parallel to the prevailing wind to improve the updraft on a relatively short flue. A conventional chimney could not be used, as it would foul the turning cap and sails of the windmill.\\n\\nExamples include the later-built (ca. 1750s) Upholland Windmill, Lancashire, where the fireplace is at second floor level (first floor in British English), as well as Much Wenlock windmill, Shropshire, which has double flues of uncertain purpose rising from the middle floor level, which was constructed in the 18th century. Both of the above cited examples post-date the earliest surviving mention of the Stone Mill in a 28 February 1677 deed.\\n\\nObservatory hypothesis\\nFour of the eight supporting pillars of the tower face the main points of the compass. In the 1990s, William Penhallow, a Professor of Physics and astronomer at the University of Rhode Island, studied the windows in the tower and said that he found a number of astronomical alignments. At the summer solstice the setting sun should shine through the \"west\" window (actually just south of true west) onto a niche in the inner wall, next to the \"south\" window. (This no longer happens due to urban development and park trees.) Similarly, the angle from the \"east\" window through the \"west\" window is about 18 degrees south of west, which is the southern extreme of moonsets during what is known as the \"lunar minor standstill\". The smaller windows also form alignments, on significant stars. These alignments could be accidental, but if they were deliberate it would explain why the pattern of windows seems, according to Penhallow, \"so odd\".\\n\\nChinese\\nAuthor Gavin Menzies argues in 1421: The Year China Discovered America that the tower was built by a colony of Chinese sailors and concubines from the junks of Zheng He\\'s voyages either as a lighthouse or as an observatory to determine the longitude of the colony, based on Penhallow\\'s findings. Menzies claimed that the tower closely matches designs used in Chinese observatories and lighthouses elsewhere.  However, these claims have been debunked.\\n\\nPortuguese\\n\\nDuring the early 20th century, Edmund B. Delabarre associated the Dighton Rock with the lost Portuguese navigators Miguel Corte-Real and his brother Gaspar. This Portuguese hypothesis has been supported more recently by Manuel Luciano DaSilva, who suggests that one of the Corte-Real brothers built the Newport Tower as a watchtower.  The idea of Portuguese construction of the tower was also supported by former U.S. Ambassador Herbert Pell, who in 1948 argued that the tower resembles elements of the Convent of Tomar in Portugal.\\n\\nMedieval Templars\\n\\nBritish writer Andrew Sinclair has put forth the hypothesis that the Newport Tower was built by medieval Scottish Templars led by Scottish earl Henry Sinclair as part of an alleged voyage to New England about a hundred years before Columbus, but such a voyage has been vigorously disputed.\\n\\nSee also\\n Oldest buildings in the United States\\n List of windmills in Rhode Island\\n Albinus Hasselgren\\n Stafford Hill Memorial, a replica of the tower in Cheshire, Massachusetts\\n\\nReferences\\n\\nExternal links \\n\\nRedwood Library site on Newport Tower\\n\"The Newport Tower and the Plowden Petition\" article from Skeptical Intelligencer\\nF. H Shelton \"More Light on the Old Mill at Newport\" Bulletin of the Newport Historical Society (No. 21, Jan. 1917)\\nF. H. Shelton \"Windmills Picturesque and Historic: The Motors of the Past\" Journal of the Franklin Institute (v.187 no. 2 Feb. 1919)\\n\\nCategory:Towers in Rhode Island\\nCategory:Landmarks in Rhode Island\\nCategory:Pre-Columbian trans-oceanic contact\\nCategory:Norse colonization of North America\\nCategory:Archaeological sites in Rhode Island\\nCategory:European medieval architecture in the United States\\nCategory:Pseudoarchaeology\\nCategory:Buildings and structures in Newport, Rhode Island\\nCategory:Windmills in Rhode Island\\nCategory:Round towers'"
      ]
     },
     "execution_count": 32,
     "metadata": {},
     "output_type": "execute_result"
    }
   ],
   "source": [
    "df_tmp.iloc[1, :].original_text"
   ]
  },
  {
   "cell_type": "code",
   "execution_count": 33,
   "id": "382cc79c-05da-4604-a5b7-f0be90341e5d",
   "metadata": {},
   "outputs": [
    {
     "name": "stderr",
     "output_type": "stream",
     "text": [
      "Some weights of RobertaModel were not initialized from the model checkpoint at roberta-base and are newly initialized: ['pooler.dense.bias', 'pooler.dense.weight']\n",
      "You should probably TRAIN this model on a down-stream task to be able to use it for predictions and inference.\n"
     ]
    }
   ],
   "source": [
    "from phd import get_phd"
   ]
  },
  {
   "cell_type": "code",
   "execution_count": 40,
   "id": "e6faa837-48cc-4e11-8fb8-a5856d126fba",
   "metadata": {},
   "outputs": [
    {
     "name": "stderr",
     "output_type": "stream",
     "text": [
      "100%|███████████████████████████████████████████| 30/30 [08:34<00:00, 17.14s/it]\n"
     ]
    }
   ],
   "source": [
    "human_phd = get_phd(df_tmp.iloc[:30, :], 'original_text', n_tries=10)"
   ]
  },
  {
   "cell_type": "code",
   "execution_count": 43,
   "id": "cf08de1e-f848-4c1a-9c9b-aaa69d77cceb",
   "metadata": {},
   "outputs": [
    {
     "name": "stderr",
     "output_type": "stream",
     "text": [
      "100%|███████████████████████████████████████████| 30/30 [07:46<00:00, 15.54s/it]\n"
     ]
    }
   ],
   "source": [
    "llm_phd = get_phd(df_tmp.iloc[:30, :], 'llm_text', n_tries=10)"
   ]
  },
  {
   "cell_type": "code",
   "execution_count": 46,
   "id": "9cc5e71e-7b45-4ddc-ae14-4b67e4e0b317",
   "metadata": {},
   "outputs": [
    {
     "data": {
      "text/plain": [
       "array([[<Axes: title={'center': '0'}>]], dtype=object)"
      ]
     },
     "execution_count": 46,
     "metadata": {},
     "output_type": "execute_result"
    },
    {
     "data": {
      "image/png": "[encoded data removed]",
      "text/plain": [
       "<Figure size 640x480 with 1 Axes>"
      ]
     },
     "metadata": {},
     "output_type": "display_data"
    }
   ],
   "source": [
    "pd.DataFrame(human_phd).hist(bins=10)"
   ]
  },
  {
   "cell_type": "code",
   "execution_count": 47,
   "id": "e5e25485-5d98-473b-a4a5-9983636f1100",
   "metadata": {},
   "outputs": [
    {
     "data": {
      "text/plain": [
       "array([[<Axes: title={'center': '0'}>]], dtype=object)"
      ]
     },
     "execution_count": 47,
     "metadata": {},
     "output_type": "execute_result"
    },
    {
     "data": {
      "image/png": "[encoded data removed]",
      "text/plain": [
       "<Figure size 640x480 with 1 Axes>"
      ]
     },
     "metadata": {},
     "output_type": "display_data"
    }
   ],
   "source": [
    "pd.DataFrame(llm_phd).hist(bins=10)"
   ]
  },
  {
   "cell_type": "code",
   "execution_count": 49,
   "id": "eedaba76-fbc9-4675-a905-e3e6df53735e",
   "metadata": {},
   "outputs": [
    {
     "data": {
      "text/plain": [
       "9.161567362648785"
      ]
     },
     "execution_count": 49,
     "metadata": {},
     "output_type": "execute_result"
    }
   ],
   "source": [
    "human_phd.mean()"
   ]
  },
  {
   "cell_type": "code",
   "execution_count": 50,
   "id": "a33ee336-427f-4ea7-a821-0105c6bbf5fb",
   "metadata": {},
   "outputs": [
    {
     "data": {
      "text/plain": [
       "6.8945133976112665"
      ]
     },
     "execution_count": 50,
     "metadata": {},
     "output_type": "execute_result"
    }
   ],
   "source": [
    "llm_phd.mean()"
   ]
  },
  {
   "cell_type": "code",
   "execution_count": null,
   "id": "4898f0a5-47b8-4ab4-9ae7-e54af44af160",
   "metadata": {},
   "outputs": [],
   "source": []
  }
 ],
 "metadata": {
  "kernelspec": {
   "display_name": "Python 3 (ipykernel)",
   "language": "python",
   "name": "python3"
  },
  "language_info": {
   "codemirror_mode": {
    "name": "ipython",
    "version": 3
   },
   "file_extension": ".py",
   "mimetype": "text/x-python",
   "name": "python",
   "nbconvert_exporter": "python",
   "pygments_lexer": "ipython3",
   "version": "3.10.12"
  }
 },
 "nbformat": 4,
 "nbformat_minor": 5
}
